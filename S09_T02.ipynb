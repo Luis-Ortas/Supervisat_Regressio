{
 "cells": [
  {
   "cell_type": "markdown",
   "id": "044410e8",
   "metadata": {},
   "source": [
    "# <font color='#d50283'>IT Academy - Data Science</font>\n",
    "##  S09 T02: Aprenentatge Supervisat - Regressions\n",
    "### Luis Ortas\n"
   ]
  },
  {
   "cell_type": "code",
   "execution_count": 1,
   "id": "e7bcdda6",
   "metadata": {
    "ExecuteTime": {
     "end_time": "2022-02-10T19:22:31.665991Z",
     "start_time": "2022-02-10T19:22:28.452546Z"
    }
   },
   "outputs": [],
   "source": [
    "\n",
    "import pandas as pd\n",
    "import numpy as np\n",
    "import matplotlib.pyplot as plt\n",
    "\n",
    "from sklearn.model_selection import train_test_split, cross_validate\n",
    "from sklearn.preprocessing import OneHotEncoder, StandardScaler, FunctionTransformer\n",
    "from sklearn.pipeline import Pipeline\n",
    "from sklearn.compose import ColumnTransformer, TransformedTargetRegressor\n",
    "from sklearn import set_config\n",
    "from sklearn.metrics import mean_squared_error, r2_score\n",
    "from sklearn.metrics import mean_absolute_error\n",
    "\n",
    "from sklearn.linear_model import LinearRegression, Lasso, Ridge, ElasticNet\n",
    "from sklearn.tree import DecisionTreeRegressor\n",
    "from sklearn.ensemble import RandomForestRegressor\n",
    "from sklearn.neural_network import MLPRegressor\n",
    "from sklearn.base import clone\n",
    "\n",
    "import time\n",
    "from tabulate import tabulate\n",
    "from tqdm.notebook import tqdm\n",
    "from functools import partial\n",
    "from tempfile import mkdtemp\n",
    "from scipy.stats import iqr\n",
    "\n",
    "import matplotlib.pyplot as plt\n",
    "import seaborn as sns"
   ]
  },
  {
   "cell_type": "code",
   "execution_count": 2,
   "id": "d8a18974",
   "metadata": {
    "ExecuteTime": {
     "end_time": "2022-02-10T19:22:36.320024Z",
     "start_time": "2022-02-10T19:22:31.667990Z"
    }
   },
   "outputs": [
    {
     "name": "stderr",
     "output_type": "stream",
     "text": [
      "D:\\anaconda3\\lib\\site-packages\\numpy\\lib\\arraysetops.py:583: FutureWarning: elementwise comparison failed; returning scalar instead, but in the future will perform elementwise comparison\n",
      "  mask |= (ar1 == a)\n"
     ]
    },
    {
     "data": {
      "text/html": [
       "<div>\n",
       "<style scoped>\n",
       "    .dataframe tbody tr th:only-of-type {\n",
       "        vertical-align: middle;\n",
       "    }\n",
       "\n",
       "    .dataframe tbody tr th {\n",
       "        vertical-align: top;\n",
       "    }\n",
       "\n",
       "    .dataframe thead th {\n",
       "        text-align: right;\n",
       "    }\n",
       "</style>\n",
       "<table border=\"1\" class=\"dataframe\">\n",
       "  <thead>\n",
       "    <tr style=\"text-align: right;\">\n",
       "      <th></th>\n",
       "      <th>Year</th>\n",
       "      <th>Month</th>\n",
       "      <th>DayofMonth</th>\n",
       "      <th>DayOfWeek</th>\n",
       "      <th>DepTime</th>\n",
       "      <th>CRSDepTime</th>\n",
       "      <th>ArrTime</th>\n",
       "      <th>CRSArrTime</th>\n",
       "      <th>UniqueCarrier</th>\n",
       "      <th>FlightNum</th>\n",
       "      <th>...</th>\n",
       "      <th>TaxiIn</th>\n",
       "      <th>TaxiOut</th>\n",
       "      <th>Cancelled</th>\n",
       "      <th>CancellationCode</th>\n",
       "      <th>Diverted</th>\n",
       "      <th>CarrierDelay</th>\n",
       "      <th>WeatherDelay</th>\n",
       "      <th>NASDelay</th>\n",
       "      <th>SecurityDelay</th>\n",
       "      <th>LateAircraftDelay</th>\n",
       "    </tr>\n",
       "  </thead>\n",
       "  <tbody>\n",
       "    <tr>\n",
       "      <th>0</th>\n",
       "      <td>2008</td>\n",
       "      <td>1</td>\n",
       "      <td>3</td>\n",
       "      <td>4</td>\n",
       "      <td>2003.0</td>\n",
       "      <td>1955</td>\n",
       "      <td>2211.0</td>\n",
       "      <td>2225</td>\n",
       "      <td>WN</td>\n",
       "      <td>335</td>\n",
       "      <td>...</td>\n",
       "      <td>4.0</td>\n",
       "      <td>8.0</td>\n",
       "      <td>0</td>\n",
       "      <td>N</td>\n",
       "      <td>0</td>\n",
       "      <td>NaN</td>\n",
       "      <td>NaN</td>\n",
       "      <td>NaN</td>\n",
       "      <td>NaN</td>\n",
       "      <td>NaN</td>\n",
       "    </tr>\n",
       "    <tr>\n",
       "      <th>1</th>\n",
       "      <td>2008</td>\n",
       "      <td>1</td>\n",
       "      <td>3</td>\n",
       "      <td>4</td>\n",
       "      <td>754.0</td>\n",
       "      <td>735</td>\n",
       "      <td>1002.0</td>\n",
       "      <td>1000</td>\n",
       "      <td>WN</td>\n",
       "      <td>3231</td>\n",
       "      <td>...</td>\n",
       "      <td>5.0</td>\n",
       "      <td>10.0</td>\n",
       "      <td>0</td>\n",
       "      <td>N</td>\n",
       "      <td>0</td>\n",
       "      <td>NaN</td>\n",
       "      <td>NaN</td>\n",
       "      <td>NaN</td>\n",
       "      <td>NaN</td>\n",
       "      <td>NaN</td>\n",
       "    </tr>\n",
       "    <tr>\n",
       "      <th>2</th>\n",
       "      <td>2008</td>\n",
       "      <td>1</td>\n",
       "      <td>3</td>\n",
       "      <td>4</td>\n",
       "      <td>628.0</td>\n",
       "      <td>620</td>\n",
       "      <td>804.0</td>\n",
       "      <td>750</td>\n",
       "      <td>WN</td>\n",
       "      <td>448</td>\n",
       "      <td>...</td>\n",
       "      <td>3.0</td>\n",
       "      <td>17.0</td>\n",
       "      <td>0</td>\n",
       "      <td>N</td>\n",
       "      <td>0</td>\n",
       "      <td>NaN</td>\n",
       "      <td>NaN</td>\n",
       "      <td>NaN</td>\n",
       "      <td>NaN</td>\n",
       "      <td>NaN</td>\n",
       "    </tr>\n",
       "    <tr>\n",
       "      <th>4</th>\n",
       "      <td>2008</td>\n",
       "      <td>1</td>\n",
       "      <td>3</td>\n",
       "      <td>4</td>\n",
       "      <td>1829.0</td>\n",
       "      <td>1755</td>\n",
       "      <td>1959.0</td>\n",
       "      <td>1925</td>\n",
       "      <td>WN</td>\n",
       "      <td>3920</td>\n",
       "      <td>...</td>\n",
       "      <td>3.0</td>\n",
       "      <td>10.0</td>\n",
       "      <td>0</td>\n",
       "      <td>N</td>\n",
       "      <td>0</td>\n",
       "      <td>2.0</td>\n",
       "      <td>0.0</td>\n",
       "      <td>0.0</td>\n",
       "      <td>0.0</td>\n",
       "      <td>32.0</td>\n",
       "    </tr>\n",
       "    <tr>\n",
       "      <th>5</th>\n",
       "      <td>2008</td>\n",
       "      <td>1</td>\n",
       "      <td>3</td>\n",
       "      <td>4</td>\n",
       "      <td>1940.0</td>\n",
       "      <td>1915</td>\n",
       "      <td>2121.0</td>\n",
       "      <td>2110</td>\n",
       "      <td>WN</td>\n",
       "      <td>378</td>\n",
       "      <td>...</td>\n",
       "      <td>4.0</td>\n",
       "      <td>10.0</td>\n",
       "      <td>0</td>\n",
       "      <td>N</td>\n",
       "      <td>0</td>\n",
       "      <td>NaN</td>\n",
       "      <td>NaN</td>\n",
       "      <td>NaN</td>\n",
       "      <td>NaN</td>\n",
       "      <td>NaN</td>\n",
       "    </tr>\n",
       "  </tbody>\n",
       "</table>\n",
       "<p>5 rows × 29 columns</p>\n",
       "</div>"
      ],
      "text/plain": [
       "   Year  Month  DayofMonth  DayOfWeek  DepTime  CRSDepTime  ArrTime  \\\n",
       "0  2008      1           3          4   2003.0        1955   2211.0   \n",
       "1  2008      1           3          4    754.0         735   1002.0   \n",
       "2  2008      1           3          4    628.0         620    804.0   \n",
       "4  2008      1           3          4   1829.0        1755   1959.0   \n",
       "5  2008      1           3          4   1940.0        1915   2121.0   \n",
       "\n",
       "   CRSArrTime UniqueCarrier  FlightNum  ... TaxiIn  TaxiOut  Cancelled  \\\n",
       "0        2225            WN        335  ...    4.0      8.0          0   \n",
       "1        1000            WN       3231  ...    5.0     10.0          0   \n",
       "2         750            WN        448  ...    3.0     17.0          0   \n",
       "4        1925            WN       3920  ...    3.0     10.0          0   \n",
       "5        2110            WN        378  ...    4.0     10.0          0   \n",
       "\n",
       "   CancellationCode  Diverted  CarrierDelay WeatherDelay NASDelay  \\\n",
       "0                 N         0           NaN          NaN      NaN   \n",
       "1                 N         0           NaN          NaN      NaN   \n",
       "2                 N         0           NaN          NaN      NaN   \n",
       "4                 N         0           2.0          0.0      0.0   \n",
       "5                 N         0           NaN          NaN      NaN   \n",
       "\n",
       "   SecurityDelay  LateAircraftDelay  \n",
       "0            NaN                NaN  \n",
       "1            NaN                NaN  \n",
       "2            NaN                NaN  \n",
       "4            0.0               32.0  \n",
       "5            NaN                NaN  \n",
       "\n",
       "[5 rows x 29 columns]"
      ]
     },
     "execution_count": 2,
     "metadata": {},
     "output_type": "execute_result"
    }
   ],
   "source": [
    "df = pd.read_csv(\"DelayedFlights.csv\",index_col=0)\n",
    "df.head(5)"
   ]
  },
  {
   "cell_type": "code",
   "execution_count": 4,
   "id": "091e1a86",
   "metadata": {
    "ExecuteTime": {
     "end_time": "2022-02-10T19:22:39.295676Z",
     "start_time": "2022-02-10T19:22:37.780813Z"
    }
   },
   "outputs": [
    {
     "data": {
      "text/html": [
       "<div>\n",
       "<style scoped>\n",
       "    .dataframe tbody tr th:only-of-type {\n",
       "        vertical-align: middle;\n",
       "    }\n",
       "\n",
       "    .dataframe tbody tr th {\n",
       "        vertical-align: top;\n",
       "    }\n",
       "\n",
       "    .dataframe thead th {\n",
       "        text-align: right;\n",
       "    }\n",
       "</style>\n",
       "<table border=\"1\" class=\"dataframe\">\n",
       "  <thead>\n",
       "    <tr style=\"text-align: right;\">\n",
       "      <th></th>\n",
       "      <th>count</th>\n",
       "      <th>mean</th>\n",
       "      <th>std</th>\n",
       "      <th>min</th>\n",
       "      <th>25%</th>\n",
       "      <th>50%</th>\n",
       "      <th>75%</th>\n",
       "      <th>max</th>\n",
       "    </tr>\n",
       "  </thead>\n",
       "  <tbody>\n",
       "    <tr>\n",
       "      <th>Year</th>\n",
       "      <td>1936758.0</td>\n",
       "      <td>2008.000000</td>\n",
       "      <td>0.000000</td>\n",
       "      <td>2008.0</td>\n",
       "      <td>2008.0</td>\n",
       "      <td>2008.0</td>\n",
       "      <td>2008.0</td>\n",
       "      <td>2008.0</td>\n",
       "    </tr>\n",
       "    <tr>\n",
       "      <th>Month</th>\n",
       "      <td>1936758.0</td>\n",
       "      <td>6.111106</td>\n",
       "      <td>3.482546</td>\n",
       "      <td>1.0</td>\n",
       "      <td>3.0</td>\n",
       "      <td>6.0</td>\n",
       "      <td>9.0</td>\n",
       "      <td>12.0</td>\n",
       "    </tr>\n",
       "    <tr>\n",
       "      <th>DayofMonth</th>\n",
       "      <td>1936758.0</td>\n",
       "      <td>15.753470</td>\n",
       "      <td>8.776272</td>\n",
       "      <td>1.0</td>\n",
       "      <td>8.0</td>\n",
       "      <td>16.0</td>\n",
       "      <td>23.0</td>\n",
       "      <td>31.0</td>\n",
       "    </tr>\n",
       "    <tr>\n",
       "      <th>DayOfWeek</th>\n",
       "      <td>1936758.0</td>\n",
       "      <td>3.984827</td>\n",
       "      <td>1.995966</td>\n",
       "      <td>1.0</td>\n",
       "      <td>2.0</td>\n",
       "      <td>4.0</td>\n",
       "      <td>6.0</td>\n",
       "      <td>7.0</td>\n",
       "    </tr>\n",
       "    <tr>\n",
       "      <th>DepTime</th>\n",
       "      <td>1936758.0</td>\n",
       "      <td>1518.534117</td>\n",
       "      <td>450.485255</td>\n",
       "      <td>1.0</td>\n",
       "      <td>1203.0</td>\n",
       "      <td>1545.0</td>\n",
       "      <td>1900.0</td>\n",
       "      <td>2400.0</td>\n",
       "    </tr>\n",
       "    <tr>\n",
       "      <th>CRSDepTime</th>\n",
       "      <td>1936758.0</td>\n",
       "      <td>1467.472644</td>\n",
       "      <td>424.766800</td>\n",
       "      <td>0.0</td>\n",
       "      <td>1135.0</td>\n",
       "      <td>1510.0</td>\n",
       "      <td>1815.0</td>\n",
       "      <td>2359.0</td>\n",
       "    </tr>\n",
       "    <tr>\n",
       "      <th>ArrTime</th>\n",
       "      <td>1929648.0</td>\n",
       "      <td>1610.140629</td>\n",
       "      <td>548.178143</td>\n",
       "      <td>1.0</td>\n",
       "      <td>1316.0</td>\n",
       "      <td>1715.0</td>\n",
       "      <td>2030.0</td>\n",
       "      <td>2400.0</td>\n",
       "    </tr>\n",
       "    <tr>\n",
       "      <th>CRSArrTime</th>\n",
       "      <td>1936758.0</td>\n",
       "      <td>1634.224641</td>\n",
       "      <td>464.634712</td>\n",
       "      <td>0.0</td>\n",
       "      <td>1325.0</td>\n",
       "      <td>1705.0</td>\n",
       "      <td>2014.0</td>\n",
       "      <td>2400.0</td>\n",
       "    </tr>\n",
       "    <tr>\n",
       "      <th>FlightNum</th>\n",
       "      <td>1936758.0</td>\n",
       "      <td>2184.263236</td>\n",
       "      <td>1944.702250</td>\n",
       "      <td>1.0</td>\n",
       "      <td>610.0</td>\n",
       "      <td>1543.0</td>\n",
       "      <td>3422.0</td>\n",
       "      <td>9742.0</td>\n",
       "    </tr>\n",
       "    <tr>\n",
       "      <th>ActualElapsedTime</th>\n",
       "      <td>1928371.0</td>\n",
       "      <td>133.305863</td>\n",
       "      <td>72.060069</td>\n",
       "      <td>14.0</td>\n",
       "      <td>80.0</td>\n",
       "      <td>116.0</td>\n",
       "      <td>165.0</td>\n",
       "      <td>1114.0</td>\n",
       "    </tr>\n",
       "    <tr>\n",
       "      <th>CRSElapsedTime</th>\n",
       "      <td>1936560.0</td>\n",
       "      <td>134.302744</td>\n",
       "      <td>71.341439</td>\n",
       "      <td>-25.0</td>\n",
       "      <td>82.0</td>\n",
       "      <td>116.0</td>\n",
       "      <td>165.0</td>\n",
       "      <td>660.0</td>\n",
       "    </tr>\n",
       "    <tr>\n",
       "      <th>AirTime</th>\n",
       "      <td>1928371.0</td>\n",
       "      <td>108.277147</td>\n",
       "      <td>68.642610</td>\n",
       "      <td>0.0</td>\n",
       "      <td>58.0</td>\n",
       "      <td>90.0</td>\n",
       "      <td>137.0</td>\n",
       "      <td>1091.0</td>\n",
       "    </tr>\n",
       "    <tr>\n",
       "      <th>ArrDelay</th>\n",
       "      <td>1928371.0</td>\n",
       "      <td>42.199885</td>\n",
       "      <td>56.784715</td>\n",
       "      <td>-109.0</td>\n",
       "      <td>9.0</td>\n",
       "      <td>24.0</td>\n",
       "      <td>56.0</td>\n",
       "      <td>2461.0</td>\n",
       "    </tr>\n",
       "    <tr>\n",
       "      <th>DepDelay</th>\n",
       "      <td>1936758.0</td>\n",
       "      <td>43.185176</td>\n",
       "      <td>53.402502</td>\n",
       "      <td>6.0</td>\n",
       "      <td>12.0</td>\n",
       "      <td>24.0</td>\n",
       "      <td>53.0</td>\n",
       "      <td>2467.0</td>\n",
       "    </tr>\n",
       "    <tr>\n",
       "      <th>Distance</th>\n",
       "      <td>1936758.0</td>\n",
       "      <td>765.686159</td>\n",
       "      <td>574.479653</td>\n",
       "      <td>11.0</td>\n",
       "      <td>338.0</td>\n",
       "      <td>606.0</td>\n",
       "      <td>998.0</td>\n",
       "      <td>4962.0</td>\n",
       "    </tr>\n",
       "    <tr>\n",
       "      <th>TaxiIn</th>\n",
       "      <td>1929648.0</td>\n",
       "      <td>6.812975</td>\n",
       "      <td>5.273595</td>\n",
       "      <td>0.0</td>\n",
       "      <td>4.0</td>\n",
       "      <td>6.0</td>\n",
       "      <td>8.0</td>\n",
       "      <td>240.0</td>\n",
       "    </tr>\n",
       "    <tr>\n",
       "      <th>TaxiOut</th>\n",
       "      <td>1936303.0</td>\n",
       "      <td>18.232203</td>\n",
       "      <td>14.338534</td>\n",
       "      <td>0.0</td>\n",
       "      <td>10.0</td>\n",
       "      <td>14.0</td>\n",
       "      <td>21.0</td>\n",
       "      <td>422.0</td>\n",
       "    </tr>\n",
       "    <tr>\n",
       "      <th>Cancelled</th>\n",
       "      <td>1936758.0</td>\n",
       "      <td>0.000327</td>\n",
       "      <td>0.018076</td>\n",
       "      <td>0.0</td>\n",
       "      <td>0.0</td>\n",
       "      <td>0.0</td>\n",
       "      <td>0.0</td>\n",
       "      <td>1.0</td>\n",
       "    </tr>\n",
       "    <tr>\n",
       "      <th>Diverted</th>\n",
       "      <td>1936758.0</td>\n",
       "      <td>0.004004</td>\n",
       "      <td>0.063147</td>\n",
       "      <td>0.0</td>\n",
       "      <td>0.0</td>\n",
       "      <td>0.0</td>\n",
       "      <td>0.0</td>\n",
       "      <td>1.0</td>\n",
       "    </tr>\n",
       "    <tr>\n",
       "      <th>CarrierDelay</th>\n",
       "      <td>1247488.0</td>\n",
       "      <td>19.179399</td>\n",
       "      <td>43.546207</td>\n",
       "      <td>0.0</td>\n",
       "      <td>0.0</td>\n",
       "      <td>2.0</td>\n",
       "      <td>21.0</td>\n",
       "      <td>2436.0</td>\n",
       "    </tr>\n",
       "    <tr>\n",
       "      <th>WeatherDelay</th>\n",
       "      <td>1247488.0</td>\n",
       "      <td>3.703571</td>\n",
       "      <td>21.492900</td>\n",
       "      <td>0.0</td>\n",
       "      <td>0.0</td>\n",
       "      <td>0.0</td>\n",
       "      <td>0.0</td>\n",
       "      <td>1352.0</td>\n",
       "    </tr>\n",
       "    <tr>\n",
       "      <th>NASDelay</th>\n",
       "      <td>1247488.0</td>\n",
       "      <td>15.021635</td>\n",
       "      <td>33.833052</td>\n",
       "      <td>0.0</td>\n",
       "      <td>0.0</td>\n",
       "      <td>2.0</td>\n",
       "      <td>15.0</td>\n",
       "      <td>1357.0</td>\n",
       "    </tr>\n",
       "    <tr>\n",
       "      <th>SecurityDelay</th>\n",
       "      <td>1247488.0</td>\n",
       "      <td>0.090137</td>\n",
       "      <td>2.022714</td>\n",
       "      <td>0.0</td>\n",
       "      <td>0.0</td>\n",
       "      <td>0.0</td>\n",
       "      <td>0.0</td>\n",
       "      <td>392.0</td>\n",
       "    </tr>\n",
       "    <tr>\n",
       "      <th>LateAircraftDelay</th>\n",
       "      <td>1247488.0</td>\n",
       "      <td>25.296466</td>\n",
       "      <td>42.054862</td>\n",
       "      <td>0.0</td>\n",
       "      <td>0.0</td>\n",
       "      <td>8.0</td>\n",
       "      <td>33.0</td>\n",
       "      <td>1316.0</td>\n",
       "    </tr>\n",
       "  </tbody>\n",
       "</table>\n",
       "</div>"
      ],
      "text/plain": [
       "                       count         mean          std     min     25%  \\\n",
       "Year               1936758.0  2008.000000     0.000000  2008.0  2008.0   \n",
       "Month              1936758.0     6.111106     3.482546     1.0     3.0   \n",
       "DayofMonth         1936758.0    15.753470     8.776272     1.0     8.0   \n",
       "DayOfWeek          1936758.0     3.984827     1.995966     1.0     2.0   \n",
       "DepTime            1936758.0  1518.534117   450.485255     1.0  1203.0   \n",
       "CRSDepTime         1936758.0  1467.472644   424.766800     0.0  1135.0   \n",
       "ArrTime            1929648.0  1610.140629   548.178143     1.0  1316.0   \n",
       "CRSArrTime         1936758.0  1634.224641   464.634712     0.0  1325.0   \n",
       "FlightNum          1936758.0  2184.263236  1944.702250     1.0   610.0   \n",
       "ActualElapsedTime  1928371.0   133.305863    72.060069    14.0    80.0   \n",
       "CRSElapsedTime     1936560.0   134.302744    71.341439   -25.0    82.0   \n",
       "AirTime            1928371.0   108.277147    68.642610     0.0    58.0   \n",
       "ArrDelay           1928371.0    42.199885    56.784715  -109.0     9.0   \n",
       "DepDelay           1936758.0    43.185176    53.402502     6.0    12.0   \n",
       "Distance           1936758.0   765.686159   574.479653    11.0   338.0   \n",
       "TaxiIn             1929648.0     6.812975     5.273595     0.0     4.0   \n",
       "TaxiOut            1936303.0    18.232203    14.338534     0.0    10.0   \n",
       "Cancelled          1936758.0     0.000327     0.018076     0.0     0.0   \n",
       "Diverted           1936758.0     0.004004     0.063147     0.0     0.0   \n",
       "CarrierDelay       1247488.0    19.179399    43.546207     0.0     0.0   \n",
       "WeatherDelay       1247488.0     3.703571    21.492900     0.0     0.0   \n",
       "NASDelay           1247488.0    15.021635    33.833052     0.0     0.0   \n",
       "SecurityDelay      1247488.0     0.090137     2.022714     0.0     0.0   \n",
       "LateAircraftDelay  1247488.0    25.296466    42.054862     0.0     0.0   \n",
       "\n",
       "                      50%     75%     max  \n",
       "Year               2008.0  2008.0  2008.0  \n",
       "Month                 6.0     9.0    12.0  \n",
       "DayofMonth           16.0    23.0    31.0  \n",
       "DayOfWeek             4.0     6.0     7.0  \n",
       "DepTime            1545.0  1900.0  2400.0  \n",
       "CRSDepTime         1510.0  1815.0  2359.0  \n",
       "ArrTime            1715.0  2030.0  2400.0  \n",
       "CRSArrTime         1705.0  2014.0  2400.0  \n",
       "FlightNum          1543.0  3422.0  9742.0  \n",
       "ActualElapsedTime   116.0   165.0  1114.0  \n",
       "CRSElapsedTime      116.0   165.0   660.0  \n",
       "AirTime              90.0   137.0  1091.0  \n",
       "ArrDelay             24.0    56.0  2461.0  \n",
       "DepDelay             24.0    53.0  2467.0  \n",
       "Distance            606.0   998.0  4962.0  \n",
       "TaxiIn                6.0     8.0   240.0  \n",
       "TaxiOut              14.0    21.0   422.0  \n",
       "Cancelled             0.0     0.0     1.0  \n",
       "Diverted              0.0     0.0     1.0  \n",
       "CarrierDelay          2.0    21.0  2436.0  \n",
       "WeatherDelay          0.0     0.0  1352.0  \n",
       "NASDelay              2.0    15.0  1357.0  \n",
       "SecurityDelay         0.0     0.0   392.0  \n",
       "LateAircraftDelay     8.0    33.0  1316.0  "
      ]
     },
     "execution_count": 4,
     "metadata": {},
     "output_type": "execute_result"
    }
   ],
   "source": [
    "df.describe().T"
   ]
  },
  {
   "cell_type": "code",
   "execution_count": 5,
   "id": "24475567",
   "metadata": {
    "ExecuteTime": {
     "end_time": "2022-02-10T19:22:40.173336Z",
     "start_time": "2022-02-10T19:22:39.297675Z"
    }
   },
   "outputs": [],
   "source": [
    "df[['Cancelled','Diverted']] = df[['Cancelled','Diverted']].astype('bool')\n",
    "#Eliminamos las filas donde Cancelled and diverted son verdad ya que ArrDelay es Nan.\n",
    "# Eliminamos las columnas Canceled y Diverted.\n",
    "\n",
    "df.drop(df[df.Cancelled  | df.Diverted].index, inplace=True)\n",
    "df.drop(columns=['Cancelled', 'CancellationCode', 'Diverted'], inplace=True)"
   ]
  },
  {
   "cell_type": "code",
   "execution_count": 6,
   "id": "fb1858af",
   "metadata": {
    "ExecuteTime": {
     "end_time": "2022-02-10T19:22:40.507891Z",
     "start_time": "2022-02-10T19:22:40.175336Z"
    }
   },
   "outputs": [
    {
     "data": {
      "text/plain": [
       "Year                      0\n",
       "Month                     0\n",
       "DayofMonth                0\n",
       "DayOfWeek                 0\n",
       "DepTime                   0\n",
       "CRSDepTime                0\n",
       "ArrTime                   0\n",
       "CRSArrTime                0\n",
       "UniqueCarrier             0\n",
       "FlightNum                 0\n",
       "TailNum                   3\n",
       "ActualElapsedTime         0\n",
       "CRSElapsedTime            0\n",
       "AirTime                   0\n",
       "ArrDelay                  0\n",
       "DepDelay                  0\n",
       "Origin                    0\n",
       "Dest                      0\n",
       "Distance                  0\n",
       "TaxiIn                    0\n",
       "TaxiOut                   0\n",
       "CarrierDelay         680883\n",
       "WeatherDelay         680883\n",
       "NASDelay             680883\n",
       "SecurityDelay        680883\n",
       "LateAircraftDelay    680883\n",
       "dtype: int64"
      ]
     },
     "execution_count": 6,
     "metadata": {},
     "output_type": "execute_result"
    }
   ],
   "source": [
    "df.isna().sum()"
   ]
  },
  {
   "cell_type": "markdown",
   "id": "6923433a",
   "metadata": {},
   "source": [
    "En un primer momento trabajaremos con las columnas numéricas."
   ]
  },
  {
   "cell_type": "code",
   "execution_count": 7,
   "id": "3244a9a8",
   "metadata": {
    "ExecuteTime": {
     "end_time": "2022-02-10T19:22:40.715425Z",
     "start_time": "2022-02-10T19:22:40.509893Z"
    }
   },
   "outputs": [],
   "source": [
    "df_num=df[['Month', 'DayofMonth', 'DayOfWeek', 'DepTime', 'CRSDepTime', 'ArrTime', 'CRSArrTime', 'ActualElapsedTime', 'CRSElapsedTime', 'AirTime',  'DepDelay', 'Distance', 'TaxiIn', 'TaxiOut', 'CarrierDelay', 'WeatherDelay', 'NASDelay', 'SecurityDelay', 'LateAircraftDelay','ArrDelay']].copy()"
   ]
  },
  {
   "cell_type": "code",
   "execution_count": 8,
   "id": "23d595fd",
   "metadata": {
    "ExecuteTime": {
     "end_time": "2022-02-10T19:22:40.747429Z",
     "start_time": "2022-02-10T19:22:40.719428Z"
    }
   },
   "outputs": [
    {
     "name": "stdout",
     "output_type": "stream",
     "text": [
      "<class 'pandas.core.frame.DataFrame'>\n",
      "Int64Index: 1928371 entries, 0 to 7009727\n",
      "Data columns (total 20 columns):\n",
      " #   Column             Dtype  \n",
      "---  ------             -----  \n",
      " 0   Month              int64  \n",
      " 1   DayofMonth         int64  \n",
      " 2   DayOfWeek          int64  \n",
      " 3   DepTime            float64\n",
      " 4   CRSDepTime         int64  \n",
      " 5   ArrTime            float64\n",
      " 6   CRSArrTime         int64  \n",
      " 7   ActualElapsedTime  float64\n",
      " 8   CRSElapsedTime     float64\n",
      " 9   AirTime            float64\n",
      " 10  DepDelay           float64\n",
      " 11  Distance           int64  \n",
      " 12  TaxiIn             float64\n",
      " 13  TaxiOut            float64\n",
      " 14  CarrierDelay       float64\n",
      " 15  WeatherDelay       float64\n",
      " 16  NASDelay           float64\n",
      " 17  SecurityDelay      float64\n",
      " 18  LateAircraftDelay  float64\n",
      " 19  ArrDelay           float64\n",
      "dtypes: float64(14), int64(6)\n",
      "memory usage: 309.0 MB\n"
     ]
    }
   ],
   "source": [
    "df_num.info()"
   ]
  },
  {
   "cell_type": "code",
   "execution_count": 9,
   "id": "3e74206d",
   "metadata": {
    "ExecuteTime": {
     "end_time": "2022-02-10T19:22:40.763430Z",
     "start_time": "2022-02-10T19:22:40.750429Z"
    }
   },
   "outputs": [],
   "source": [
    "cat_columns = [ 'Tailnum','UniqueCarrier', 'Dest', 'Origin']"
   ]
  },
  {
   "cell_type": "markdown",
   "id": "43cbec51",
   "metadata": {},
   "source": [
    "**Sustituimos valores nulos por por mediana.**"
   ]
  },
  {
   "cell_type": "code",
   "execution_count": 10,
   "id": "76f2a684",
   "metadata": {
    "ExecuteTime": {
     "end_time": "2022-02-10T19:22:41.351638Z",
     "start_time": "2022-02-10T19:22:40.766433Z"
    }
   },
   "outputs": [
    {
     "data": {
      "text/plain": [
       "Month                0\n",
       "DayofMonth           0\n",
       "DayOfWeek            0\n",
       "DepTime              0\n",
       "CRSDepTime           0\n",
       "ArrTime              0\n",
       "CRSArrTime           0\n",
       "ActualElapsedTime    0\n",
       "CRSElapsedTime       0\n",
       "AirTime              0\n",
       "DepDelay             0\n",
       "Distance             0\n",
       "TaxiIn               0\n",
       "TaxiOut              0\n",
       "CarrierDelay         0\n",
       "WeatherDelay         0\n",
       "NASDelay             0\n",
       "SecurityDelay        0\n",
       "LateAircraftDelay    0\n",
       "ArrDelay             0\n",
       "dtype: int64"
      ]
     },
     "execution_count": 10,
     "metadata": {},
     "output_type": "execute_result"
    }
   ],
   "source": [
    "for i in df_num.columns:\n",
    "    df_num[i].fillna(df_num[i].median(), inplace = True)\n",
    "    \n",
    "df_num.isna().sum()"
   ]
  },
  {
   "cell_type": "code",
   "execution_count": 11,
   "id": "13912a49",
   "metadata": {
    "ExecuteTime": {
     "end_time": "2022-02-10T19:22:45.989036Z",
     "start_time": "2022-02-10T19:22:41.353640Z"
    }
   },
   "outputs": [
    {
     "data": {
      "image/png": "[encoded data removed]",
      "text/plain": [
       "<Figure size 1080x288 with 2 Axes>"
      ]
     },
     "metadata": {
      "needs_background": "light"
     },
     "output_type": "display_data"
    }
   ],
   "source": [
    "#Heat map correlación\n",
    "fig,ax = plt.subplots(figsize=(15,4))\n",
    "corr = df_num.corr()\n",
    "sns.set_theme(style=\"white\")\n",
    "cmap = sns.diverging_palette(230, 20, as_cmap=True)\n",
    "\n",
    "matrix = np.triu(corr)\n",
    "sns.heatmap(corr, annot=True, mask=matrix, cmap=cmap)\n",
    "plt.show()"
   ]
  },
  {
   "cell_type": "code",
   "execution_count": 12,
   "id": "6b618fdd",
   "metadata": {
    "ExecuteTime": {
     "end_time": "2022-02-10T19:22:51.951109Z",
     "start_time": "2022-02-10T19:22:45.992038Z"
    }
   },
   "outputs": [
    {
     "data": {
      "image/png": "[encoded data removed]",
      "text/plain": [
       "<Figure size 1440x1080 with 25 Axes>"
      ]
     },
     "metadata": {},
     "output_type": "display_data"
    }
   ],
   "source": [
    "df.hist(bins=50,figsize=(20,15))\n",
    "plt.show()"
   ]
  },
  {
   "cell_type": "markdown",
   "id": "c222e88e",
   "metadata": {},
   "source": [
    "#### No eliminamos columnas ya que lo realizaremos dentro de los mismos ejercicios."
   ]
  },
  {
   "cell_type": "markdown",
   "id": "14d8bbe5",
   "metadata": {},
   "source": [
    "***\n",
    "## Exercici 1\n",
    "Crea almenys tres models de regressió diferents per intentar predir el millor possible l’endarreriment dels vols (ArrDelay) de DelayedFlights.csv.\n",
    "\n",
    "**En este punto del ejercicio no realizaremos normalizaciones ni estandarificaciones. Lo realizaremos posteriormente.**"
   ]
  },
  {
   "cell_type": "code",
   "execution_count": 13,
   "id": "d4fdb419",
   "metadata": {
    "ExecuteTime": {
     "end_time": "2022-02-10T19:22:52.930030Z",
     "start_time": "2022-02-10T19:22:51.954113Z"
    }
   },
   "outputs": [],
   "source": [
    "# Relizamos particiones del df.(trabajos con las variables numéricas.)\n",
    "\n",
    "y=df_num['ArrDelay'] # es la columna objetivo.\n",
    "X=df_num.drop(columns=['ArrDelay']).copy()\n",
    "\n",
    "\n",
    "X_train, X_test, y_train, y_test = train_test_split(X, y, test_size=0.3, random_state=42)"
   ]
  },
  {
   "cell_type": "markdown",
   "id": "133ebba8",
   "metadata": {
    "ExecuteTime": {
     "end_time": "2022-02-10T00:02:31.353207Z",
     "start_time": "2022-02-10T00:02:31.338190Z"
    }
   },
   "source": [
    "- **Regresión lineal**"
   ]
  },
  {
   "cell_type": "code",
   "execution_count": 14,
   "id": "47305529",
   "metadata": {
    "ExecuteTime": {
     "end_time": "2022-02-10T19:22:53.562293Z",
     "start_time": "2022-02-10T19:22:52.931030Z"
    }
   },
   "outputs": [
    {
     "data": {
      "text/plain": [
       "LinearRegression()"
      ]
     },
     "execution_count": 14,
     "metadata": {},
     "output_type": "execute_result"
    }
   ],
   "source": [
    "model1 = LinearRegression()\n",
    "model1.fit(X_train,y_train)"
   ]
  },
  {
   "cell_type": "code",
   "execution_count": 15,
   "id": "ce7fe26b",
   "metadata": {
    "ExecuteTime": {
     "end_time": "2022-02-10T19:22:55.300220Z",
     "start_time": "2022-02-10T19:22:53.565294Z"
    }
   },
   "outputs": [
    {
     "name": "stdout",
     "output_type": "stream",
     "text": [
      "0.9999999983927238 0.9999999983926738\n"
     ]
    },
    {
     "data": {
      "text/html": [
       "<table class=\"simpletable\">\n",
       "<caption>OLS Regression Results</caption>\n",
       "<tr>\n",
       "  <th>Dep. Variable:</th>            <td>y</td>        <th>  R-squared:         </th>  <td>   1.000</td> \n",
       "</tr>\n",
       "<tr>\n",
       "  <th>Model:</th>                   <td>OLS</td>       <th>  Adj. R-squared:    </th>  <td>   1.000</td> \n",
       "</tr>\n",
       "<tr>\n",
       "  <th>Method:</th>             <td>Least Squares</td>  <th>  F-statistic:       </th>  <td>2.000e+13</td>\n",
       "</tr>\n",
       "<tr>\n",
       "  <th>Date:</th>             <td>Thu, 10 Feb 2022</td> <th>  Prob (F-statistic):</th>   <td>  0.00</td>  \n",
       "</tr>\n",
       "<tr>\n",
       "  <th>Time:</th>                 <td>20:22:55</td>     <th>  Log-Likelihood:    </th> <td>2.6993e+06</td>\n",
       "</tr>\n",
       "<tr>\n",
       "  <th>No. Observations:</th>      <td>578512</td>      <th>  AIC:               </th> <td>-5.399e+06</td>\n",
       "</tr>\n",
       "<tr>\n",
       "  <th>Df Residuals:</th>          <td>578493</td>      <th>  BIC:               </th> <td>-5.398e+06</td>\n",
       "</tr>\n",
       "<tr>\n",
       "  <th>Df Model:</th>              <td>    18</td>      <th>                     </th>      <td> </td>    \n",
       "</tr>\n",
       "<tr>\n",
       "  <th>Covariance Type:</th>      <td>nonrobust</td>    <th>                     </th>      <td> </td>    \n",
       "</tr>\n",
       "</table>\n",
       "<table class=\"simpletable\">\n",
       "<tr>\n",
       "    <td></td>       <th>coef</th>     <th>std err</th>      <th>t</th>      <th>P>|t|</th>  <th>[0.025</th>    <th>0.975]</th>  \n",
       "</tr>\n",
       "<tr>\n",
       "  <th>const</th> <td>-3.125e-06</td> <td> 1.83e-05</td> <td>   -0.171</td> <td> 0.864</td> <td> -3.9e-05</td> <td> 3.27e-05</td>\n",
       "</tr>\n",
       "<tr>\n",
       "  <th>x1</th>    <td>-6.459e-07</td> <td> 8.62e-07</td> <td>   -0.749</td> <td> 0.454</td> <td>-2.34e-06</td> <td> 1.04e-06</td>\n",
       "</tr>\n",
       "<tr>\n",
       "  <th>x2</th>    <td> 1.346e-07</td> <td> 3.42e-07</td> <td>    0.394</td> <td> 0.693</td> <td>-5.35e-07</td> <td> 8.04e-07</td>\n",
       "</tr>\n",
       "<tr>\n",
       "  <th>x3</th>    <td> 1.757e-08</td> <td>  1.5e-06</td> <td>    0.012</td> <td> 0.991</td> <td>-2.92e-06</td> <td> 2.96e-06</td>\n",
       "</tr>\n",
       "<tr>\n",
       "  <th>x4</th>    <td> 1.036e-07</td> <td> 1.52e-08</td> <td>    6.826</td> <td> 0.000</td> <td> 7.39e-08</td> <td> 1.33e-07</td>\n",
       "</tr>\n",
       "<tr>\n",
       "  <th>x5</th>    <td>-1.186e-07</td> <td>  1.6e-08</td> <td>   -7.437</td> <td> 0.000</td> <td> -1.5e-07</td> <td>-8.74e-08</td>\n",
       "</tr>\n",
       "<tr>\n",
       "  <th>x6</th>    <td>-4.584e-08</td> <td> 7.17e-09</td> <td>   -6.397</td> <td> 0.000</td> <td>-5.99e-08</td> <td>-3.18e-08</td>\n",
       "</tr>\n",
       "<tr>\n",
       "  <th>x7</th>    <td> 6.347e-08</td> <td>  1.1e-08</td> <td>    5.773</td> <td> 0.000</td> <td> 4.19e-08</td> <td>  8.5e-08</td>\n",
       "</tr>\n",
       "<tr>\n",
       "  <th>x8</th>    <td>    0.7500</td> <td> 4.07e-07</td> <td> 1.84e+06</td> <td> 0.000</td> <td>    0.750</td> <td>    0.750</td>\n",
       "</tr>\n",
       "<tr>\n",
       "  <th>x9</th>    <td>   -1.0000</td> <td> 5.48e-07</td> <td>-1.83e+06</td> <td> 0.000</td> <td>   -1.000</td> <td>   -1.000</td>\n",
       "</tr>\n",
       "<tr>\n",
       "  <th>x10</th>   <td>    0.2500</td> <td> 2.72e-07</td> <td> 9.18e+05</td> <td> 0.000</td> <td>    0.250</td> <td>    0.250</td>\n",
       "</tr>\n",
       "<tr>\n",
       "  <th>x11</th>   <td>    1.0000</td> <td> 5.56e-07</td> <td>  1.8e+06</td> <td> 0.000</td> <td>    1.000</td> <td>    1.000</td>\n",
       "</tr>\n",
       "<tr>\n",
       "  <th>x12</th>   <td> 1.572e-08</td> <td>  3.1e-08</td> <td>    0.507</td> <td> 0.612</td> <td> -4.5e-08</td> <td> 7.64e-08</td>\n",
       "</tr>\n",
       "<tr>\n",
       "  <th>x13</th>   <td>    0.2500</td> <td> 4.61e-07</td> <td> 5.42e+05</td> <td> 0.000</td> <td>    0.250</td> <td>    0.250</td>\n",
       "</tr>\n",
       "<tr>\n",
       "  <th>x14</th>   <td>    0.2500</td> <td> 2.71e-07</td> <td> 9.22e+05</td> <td> 0.000</td> <td>    0.250</td> <td>    0.250</td>\n",
       "</tr>\n",
       "<tr>\n",
       "  <th>x15</th>   <td> 2.997e-07</td> <td> 5.77e-07</td> <td>    0.520</td> <td> 0.603</td> <td>-8.31e-07</td> <td> 1.43e-06</td>\n",
       "</tr>\n",
       "<tr>\n",
       "  <th>x16</th>   <td> 2.696e-07</td> <td>  5.9e-07</td> <td>    0.457</td> <td> 0.648</td> <td>-8.87e-07</td> <td> 1.43e-06</td>\n",
       "</tr>\n",
       "<tr>\n",
       "  <th>x17</th>   <td> 2.012e-07</td> <td> 5.69e-07</td> <td>    0.354</td> <td> 0.724</td> <td>-9.14e-07</td> <td> 1.32e-06</td>\n",
       "</tr>\n",
       "<tr>\n",
       "  <th>x18</th>   <td> 2.338e-07</td> <td> 1.99e-06</td> <td>    0.118</td> <td> 0.906</td> <td>-3.66e-06</td> <td> 4.13e-06</td>\n",
       "</tr>\n",
       "<tr>\n",
       "  <th>x19</th>   <td> 2.792e-07</td> <td> 5.78e-07</td> <td>    0.483</td> <td> 0.629</td> <td>-8.54e-07</td> <td> 1.41e-06</td>\n",
       "</tr>\n",
       "</table>\n",
       "<table class=\"simpletable\">\n",
       "<tr>\n",
       "  <th>Omnibus:</th>       <td>2595597.799</td> <th>  Durbin-Watson:     </th>      <td>   2.000</td>      \n",
       "</tr>\n",
       "<tr>\n",
       "  <th>Prob(Omnibus):</th>   <td> 0.000</td>    <th>  Jarque-Bera (JB):  </th> <td>895714384120903.250</td>\n",
       "</tr>\n",
       "<tr>\n",
       "  <th>Skew:</th>            <td>146.439</td>   <th>  Prob(JB):          </th>      <td>    0.00</td>      \n",
       "</tr>\n",
       "<tr>\n",
       "  <th>Kurtosis:</th>      <td>192770.452</td>  <th>  Cond. No.          </th>      <td>3.50e+15</td>      \n",
       "</tr>\n",
       "</table><br/><br/>Notes:<br/>[1] Standard Errors assume that the covariance matrix of the errors is correctly specified.<br/>[2] The smallest eigenvalue is 5.17e-19. This might indicate that there are<br/>strong multicollinearity problems or that the design matrix is singular."
      ],
      "text/plain": [
       "<class 'statsmodels.iolib.summary.Summary'>\n",
       "\"\"\"\n",
       "                            OLS Regression Results                            \n",
       "==============================================================================\n",
       "Dep. Variable:                      y   R-squared:                       1.000\n",
       "Model:                            OLS   Adj. R-squared:                  1.000\n",
       "Method:                 Least Squares   F-statistic:                 2.000e+13\n",
       "Date:                Thu, 10 Feb 2022   Prob (F-statistic):               0.00\n",
       "Time:                        20:22:55   Log-Likelihood:             2.6993e+06\n",
       "No. Observations:              578512   AIC:                        -5.399e+06\n",
       "Df Residuals:                  578493   BIC:                        -5.398e+06\n",
       "Df Model:                          18                                         \n",
       "Covariance Type:            nonrobust                                         \n",
       "==============================================================================\n",
       "                 coef    std err          t      P>|t|      [0.025      0.975]\n",
       "------------------------------------------------------------------------------\n",
       "const      -3.125e-06   1.83e-05     -0.171      0.864    -3.9e-05    3.27e-05\n",
       "x1         -6.459e-07   8.62e-07     -0.749      0.454   -2.34e-06    1.04e-06\n",
       "x2          1.346e-07   3.42e-07      0.394      0.693   -5.35e-07    8.04e-07\n",
       "x3          1.757e-08    1.5e-06      0.012      0.991   -2.92e-06    2.96e-06\n",
       "x4          1.036e-07   1.52e-08      6.826      0.000    7.39e-08    1.33e-07\n",
       "x5         -1.186e-07    1.6e-08     -7.437      0.000    -1.5e-07   -8.74e-08\n",
       "x6         -4.584e-08   7.17e-09     -6.397      0.000   -5.99e-08   -3.18e-08\n",
       "x7          6.347e-08    1.1e-08      5.773      0.000    4.19e-08     8.5e-08\n",
       "x8             0.7500   4.07e-07   1.84e+06      0.000       0.750       0.750\n",
       "x9            -1.0000   5.48e-07  -1.83e+06      0.000      -1.000      -1.000\n",
       "x10            0.2500   2.72e-07   9.18e+05      0.000       0.250       0.250\n",
       "x11            1.0000   5.56e-07    1.8e+06      0.000       1.000       1.000\n",
       "x12         1.572e-08    3.1e-08      0.507      0.612    -4.5e-08    7.64e-08\n",
       "x13            0.2500   4.61e-07   5.42e+05      0.000       0.250       0.250\n",
       "x14            0.2500   2.71e-07   9.22e+05      0.000       0.250       0.250\n",
       "x15         2.997e-07   5.77e-07      0.520      0.603   -8.31e-07    1.43e-06\n",
       "x16         2.696e-07    5.9e-07      0.457      0.648   -8.87e-07    1.43e-06\n",
       "x17         2.012e-07   5.69e-07      0.354      0.724   -9.14e-07    1.32e-06\n",
       "x18         2.338e-07   1.99e-06      0.118      0.906   -3.66e-06    4.13e-06\n",
       "x19         2.792e-07   5.78e-07      0.483      0.629   -8.54e-07    1.41e-06\n",
       "===============================================================================\n",
       "Omnibus:                  2595597.799   Durbin-Watson:                    2.000\n",
       "Prob(Omnibus):                  0.000   Jarque-Bera (JB):   895714384120903.250\n",
       "Skew:                         146.439   Prob(JB):                          0.00\n",
       "Kurtosis:                  192770.452   Cond. No.                      3.50e+15\n",
       "===============================================================================\n",
       "\n",
       "Notes:\n",
       "[1] Standard Errors assume that the covariance matrix of the errors is correctly specified.\n",
       "[2] The smallest eigenvalue is 5.17e-19. This might indicate that there are\n",
       "strong multicollinearity problems or that the design matrix is singular.\n",
       "\"\"\""
      ]
     },
     "execution_count": 15,
     "metadata": {},
     "output_type": "execute_result"
    }
   ],
   "source": [
    "X1=np.array(X_test)\n",
    "y1=np.array(y_test)\n",
    "import statsmodels.api as sm\n",
    "X_addC = sm.add_constant(X1)\n",
    "result = sm.OLS(y1, X_addC).fit()\n",
    "print(result.rsquared, result.rsquared_adj)\n",
    "result.summary()"
   ]
  },
  {
   "cell_type": "markdown",
   "id": "5c51293b",
   "metadata": {},
   "source": [
    "\"This might indicate that there are\n",
    "strong multicollinearity problems or that the design matrix is singular.\" \n",
    "Trabajaremos este punto en otros ejercicios"
   ]
  },
  {
   "cell_type": "code",
   "execution_count": 16,
   "id": "41b4300e",
   "metadata": {
    "ExecuteTime": {
     "end_time": "2022-02-10T19:22:55.364226Z",
     "start_time": "2022-02-10T19:22:55.303219Z"
    }
   },
   "outputs": [],
   "source": [
    "# predición\n",
    "pred1= model1.predict(X_test) "
   ]
  },
  {
   "cell_type": "markdown",
   "id": "f63310ac",
   "metadata": {},
   "source": [
    "Comparamos con realidad"
   ]
  },
  {
   "cell_type": "code",
   "execution_count": 17,
   "id": "e6aa9dbf",
   "metadata": {
    "ExecuteTime": {
     "end_time": "2022-02-10T19:22:55.394230Z",
     "start_time": "2022-02-10T19:22:55.366225Z"
    }
   },
   "outputs": [
    {
     "data": {
      "text/html": [
       "<div>\n",
       "<style scoped>\n",
       "    .dataframe tbody tr th:only-of-type {\n",
       "        vertical-align: middle;\n",
       "    }\n",
       "\n",
       "    .dataframe tbody tr th {\n",
       "        vertical-align: top;\n",
       "    }\n",
       "\n",
       "    .dataframe thead th {\n",
       "        text-align: right;\n",
       "    }\n",
       "</style>\n",
       "<table border=\"1\" class=\"dataframe\">\n",
       "  <thead>\n",
       "    <tr style=\"text-align: right;\">\n",
       "      <th></th>\n",
       "      <th>Actual</th>\n",
       "      <th>Pred</th>\n",
       "    </tr>\n",
       "  </thead>\n",
       "  <tbody>\n",
       "    <tr>\n",
       "      <th>1251307</th>\n",
       "      <td>6.0</td>\n",
       "      <td>6.000001</td>\n",
       "    </tr>\n",
       "    <tr>\n",
       "      <th>4750566</th>\n",
       "      <td>35.0</td>\n",
       "      <td>35.000010</td>\n",
       "    </tr>\n",
       "    <tr>\n",
       "      <th>6773048</th>\n",
       "      <td>10.0</td>\n",
       "      <td>9.999994</td>\n",
       "    </tr>\n",
       "    <tr>\n",
       "      <th>58354</th>\n",
       "      <td>73.0</td>\n",
       "      <td>73.000002</td>\n",
       "    </tr>\n",
       "    <tr>\n",
       "      <th>6648930</th>\n",
       "      <td>49.0</td>\n",
       "      <td>48.999997</td>\n",
       "    </tr>\n",
       "    <tr>\n",
       "      <th>...</th>\n",
       "      <td>...</td>\n",
       "      <td>...</td>\n",
       "    </tr>\n",
       "    <tr>\n",
       "      <th>4021836</th>\n",
       "      <td>67.0</td>\n",
       "      <td>66.999994</td>\n",
       "    </tr>\n",
       "    <tr>\n",
       "      <th>1886023</th>\n",
       "      <td>26.0</td>\n",
       "      <td>26.000004</td>\n",
       "    </tr>\n",
       "    <tr>\n",
       "      <th>957007</th>\n",
       "      <td>7.0</td>\n",
       "      <td>7.000004</td>\n",
       "    </tr>\n",
       "    <tr>\n",
       "      <th>245859</th>\n",
       "      <td>-4.0</td>\n",
       "      <td>-3.999992</td>\n",
       "    </tr>\n",
       "    <tr>\n",
       "      <th>987061</th>\n",
       "      <td>33.0</td>\n",
       "      <td>33.000135</td>\n",
       "    </tr>\n",
       "  </tbody>\n",
       "</table>\n",
       "<p>578512 rows × 2 columns</p>\n",
       "</div>"
      ],
      "text/plain": [
       "         Actual       Pred\n",
       "1251307     6.0   6.000001\n",
       "4750566    35.0  35.000010\n",
       "6773048    10.0   9.999994\n",
       "58354      73.0  73.000002\n",
       "6648930    49.0  48.999997\n",
       "...         ...        ...\n",
       "4021836    67.0  66.999994\n",
       "1886023    26.0  26.000004\n",
       "957007      7.0   7.000004\n",
       "245859     -4.0  -3.999992\n",
       "987061     33.0  33.000135\n",
       "\n",
       "[578512 rows x 2 columns]"
      ]
     },
     "execution_count": 17,
     "metadata": {},
     "output_type": "execute_result"
    }
   ],
   "source": [
    "compa1=pd.DataFrame({'Actual':y_test,'Pred':pred1})\n",
    "compa1"
   ]
  },
  {
   "cell_type": "markdown",
   "id": "55743cfe",
   "metadata": {},
   "source": [
    "**Arbol decisión**"
   ]
  },
  {
   "cell_type": "code",
   "execution_count": 18,
   "id": "f066c190",
   "metadata": {
    "ExecuteTime": {
     "end_time": "2022-02-10T19:23:00.149603Z",
     "start_time": "2022-02-10T19:22:55.396230Z"
    }
   },
   "outputs": [],
   "source": [
    "from sklearn.tree import DecisionTreeRegressor\n",
    "model2 = DecisionTreeRegressor(max_depth=3, random_state=42)\n",
    "model2.fit(X_train, y_train);"
   ]
  },
  {
   "cell_type": "code",
   "execution_count": 19,
   "id": "86c08b02",
   "metadata": {
    "ExecuteTime": {
     "end_time": "2022-02-10T19:23:01.017324Z",
     "start_time": "2022-02-10T19:23:00.151603Z"
    }
   },
   "outputs": [
    {
     "data": {
      "image/png": "[encoded data removed]",
      "text/plain": [
       "<Figure size 1080x576 with 1 Axes>"
      ]
     },
     "metadata": {},
     "output_type": "display_data"
    }
   ],
   "source": [
    "from sklearn import tree\n",
    "\n",
    "plt.figure(figsize =(15, 8))\n",
    "tree.plot_tree(model2);"
   ]
  },
  {
   "cell_type": "code",
   "execution_count": 20,
   "id": "75d3fd15",
   "metadata": {
    "ExecuteTime": {
     "end_time": "2022-02-10T19:23:01.097329Z",
     "start_time": "2022-02-10T19:23:01.020325Z"
    }
   },
   "outputs": [],
   "source": [
    "pred2=model2.predict(X_test) # predición"
   ]
  },
  {
   "cell_type": "code",
   "execution_count": 21,
   "id": "b8a67cb1",
   "metadata": {
    "ExecuteTime": {
     "end_time": "2022-02-10T19:23:01.128333Z",
     "start_time": "2022-02-10T19:23:01.099332Z"
    }
   },
   "outputs": [
    {
     "data": {
      "text/html": [
       "<div>\n",
       "<style scoped>\n",
       "    .dataframe tbody tr th:only-of-type {\n",
       "        vertical-align: middle;\n",
       "    }\n",
       "\n",
       "    .dataframe tbody tr th {\n",
       "        vertical-align: top;\n",
       "    }\n",
       "\n",
       "    .dataframe thead th {\n",
       "        text-align: right;\n",
       "    }\n",
       "</style>\n",
       "<table border=\"1\" class=\"dataframe\">\n",
       "  <thead>\n",
       "    <tr style=\"text-align: right;\">\n",
       "      <th></th>\n",
       "      <th>Actual</th>\n",
       "      <th>Pred-2</th>\n",
       "    </tr>\n",
       "  </thead>\n",
       "  <tbody>\n",
       "    <tr>\n",
       "      <th>1251307</th>\n",
       "      <td>6.0</td>\n",
       "      <td>8.780637</td>\n",
       "    </tr>\n",
       "    <tr>\n",
       "      <th>4750566</th>\n",
       "      <td>35.0</td>\n",
       "      <td>34.579954</td>\n",
       "    </tr>\n",
       "    <tr>\n",
       "      <th>6773048</th>\n",
       "      <td>10.0</td>\n",
       "      <td>8.780637</td>\n",
       "    </tr>\n",
       "    <tr>\n",
       "      <th>58354</th>\n",
       "      <td>73.0</td>\n",
       "      <td>47.645291</td>\n",
       "    </tr>\n",
       "    <tr>\n",
       "      <th>6648930</th>\n",
       "      <td>49.0</td>\n",
       "      <td>47.645291</td>\n",
       "    </tr>\n",
       "    <tr>\n",
       "      <th>...</th>\n",
       "      <td>...</td>\n",
       "      <td>...</td>\n",
       "    </tr>\n",
       "    <tr>\n",
       "      <th>4021836</th>\n",
       "      <td>67.0</td>\n",
       "      <td>34.579954</td>\n",
       "    </tr>\n",
       "    <tr>\n",
       "      <th>1886023</th>\n",
       "      <td>26.0</td>\n",
       "      <td>34.579954</td>\n",
       "    </tr>\n",
       "    <tr>\n",
       "      <th>957007</th>\n",
       "      <td>7.0</td>\n",
       "      <td>8.780637</td>\n",
       "    </tr>\n",
       "    <tr>\n",
       "      <th>245859</th>\n",
       "      <td>-4.0</td>\n",
       "      <td>8.780637</td>\n",
       "    </tr>\n",
       "    <tr>\n",
       "      <th>987061</th>\n",
       "      <td>33.0</td>\n",
       "      <td>34.579954</td>\n",
       "    </tr>\n",
       "  </tbody>\n",
       "</table>\n",
       "<p>578512 rows × 2 columns</p>\n",
       "</div>"
      ],
      "text/plain": [
       "         Actual     Pred-2\n",
       "1251307     6.0   8.780637\n",
       "4750566    35.0  34.579954\n",
       "6773048    10.0   8.780637\n",
       "58354      73.0  47.645291\n",
       "6648930    49.0  47.645291\n",
       "...         ...        ...\n",
       "4021836    67.0  34.579954\n",
       "1886023    26.0  34.579954\n",
       "957007      7.0   8.780637\n",
       "245859     -4.0   8.780637\n",
       "987061     33.0  34.579954\n",
       "\n",
       "[578512 rows x 2 columns]"
      ]
     },
     "execution_count": 21,
     "metadata": {},
     "output_type": "execute_result"
    }
   ],
   "source": [
    "compa2=pd.DataFrame({'Actual':y_test,'Pred-2':pred2})\n",
    "compa2"
   ]
  },
  {
   "cell_type": "code",
   "execution_count": 22,
   "id": "cdf862bc",
   "metadata": {
    "ExecuteTime": {
     "end_time": "2022-02-10T19:23:01.367350Z",
     "start_time": "2022-02-10T19:23:01.130334Z"
    }
   },
   "outputs": [
    {
     "data": {
      "text/plain": [
       "<AxesSubplot:>"
      ]
     },
     "execution_count": 22,
     "metadata": {},
     "output_type": "execute_result"
    },
    {
     "data": {
      "image/png": "[encoded data removed]",
      "text/plain": [
       "<Figure size 720x504 with 1 Axes>"
      ]
     },
     "metadata": {},
     "output_type": "display_data"
    }
   ],
   "source": [
    "plt.figure(figsize=(10,7))\n",
    "feat_importances = pd.Series(model2.feature_importances_, index = X.columns)\n",
    "feat_importances.nlargest(7).plot(kind='barh')"
   ]
  },
  {
   "cell_type": "markdown",
   "id": "6ae44a12",
   "metadata": {},
   "source": [
    "3 Random Forest**"
   ]
  },
  {
   "cell_type": "code",
   "execution_count": 23,
   "id": "2e641dc4",
   "metadata": {
    "ExecuteTime": {
     "end_time": "2022-02-10T19:24:43.955246Z",
     "start_time": "2022-02-10T19:23:01.374351Z"
    }
   },
   "outputs": [
    {
     "data": {
      "text/plain": [
       "RandomForestRegressor(max_depth=10, n_estimators=10, random_state=42)"
      ]
     },
     "execution_count": 23,
     "metadata": {},
     "output_type": "execute_result"
    }
   ],
   "source": [
    "model3 = RandomForestRegressor(n_estimators = 10, max_depth=10, random_state = 42)\n",
    "model3.fit(X_train, y_train)"
   ]
  },
  {
   "cell_type": "code",
   "execution_count": 24,
   "id": "ad93af20",
   "metadata": {
    "ExecuteTime": {
     "end_time": "2022-02-10T19:24:44.501362Z",
     "start_time": "2022-02-10T19:24:43.959784Z"
    }
   },
   "outputs": [],
   "source": [
    "pred3=model3.predict(X_test)  # predicción"
   ]
  },
  {
   "cell_type": "code",
   "execution_count": 25,
   "id": "25e145ce",
   "metadata": {
    "ExecuteTime": {
     "end_time": "2022-02-10T19:24:44.532700Z",
     "start_time": "2022-02-10T19:24:44.503460Z"
    }
   },
   "outputs": [
    {
     "data": {
      "text/html": [
       "<div>\n",
       "<style scoped>\n",
       "    .dataframe tbody tr th:only-of-type {\n",
       "        vertical-align: middle;\n",
       "    }\n",
       "\n",
       "    .dataframe tbody tr th {\n",
       "        vertical-align: top;\n",
       "    }\n",
       "\n",
       "    .dataframe thead th {\n",
       "        text-align: right;\n",
       "    }\n",
       "</style>\n",
       "<table border=\"1\" class=\"dataframe\">\n",
       "  <thead>\n",
       "    <tr style=\"text-align: right;\">\n",
       "      <th></th>\n",
       "      <th>Actual</th>\n",
       "      <th>Pred-3</th>\n",
       "    </tr>\n",
       "  </thead>\n",
       "  <tbody>\n",
       "    <tr>\n",
       "      <th>1251307</th>\n",
       "      <td>6.0</td>\n",
       "      <td>3.695323</td>\n",
       "    </tr>\n",
       "    <tr>\n",
       "      <th>4750566</th>\n",
       "      <td>35.0</td>\n",
       "      <td>37.349161</td>\n",
       "    </tr>\n",
       "    <tr>\n",
       "      <th>6773048</th>\n",
       "      <td>10.0</td>\n",
       "      <td>5.696531</td>\n",
       "    </tr>\n",
       "    <tr>\n",
       "      <th>58354</th>\n",
       "      <td>73.0</td>\n",
       "      <td>68.749563</td>\n",
       "    </tr>\n",
       "    <tr>\n",
       "      <th>6648930</th>\n",
       "      <td>49.0</td>\n",
       "      <td>49.405453</td>\n",
       "    </tr>\n",
       "    <tr>\n",
       "      <th>...</th>\n",
       "      <td>...</td>\n",
       "      <td>...</td>\n",
       "    </tr>\n",
       "    <tr>\n",
       "      <th>4021836</th>\n",
       "      <td>67.0</td>\n",
       "      <td>61.962457</td>\n",
       "    </tr>\n",
       "    <tr>\n",
       "      <th>1886023</th>\n",
       "      <td>26.0</td>\n",
       "      <td>23.567830</td>\n",
       "    </tr>\n",
       "    <tr>\n",
       "      <th>957007</th>\n",
       "      <td>7.0</td>\n",
       "      <td>5.696531</td>\n",
       "    </tr>\n",
       "    <tr>\n",
       "      <th>245859</th>\n",
       "      <td>-4.0</td>\n",
       "      <td>-2.541012</td>\n",
       "    </tr>\n",
       "    <tr>\n",
       "      <th>987061</th>\n",
       "      <td>33.0</td>\n",
       "      <td>32.059499</td>\n",
       "    </tr>\n",
       "  </tbody>\n",
       "</table>\n",
       "<p>578512 rows × 2 columns</p>\n",
       "</div>"
      ],
      "text/plain": [
       "         Actual     Pred-3\n",
       "1251307     6.0   3.695323\n",
       "4750566    35.0  37.349161\n",
       "6773048    10.0   5.696531\n",
       "58354      73.0  68.749563\n",
       "6648930    49.0  49.405453\n",
       "...         ...        ...\n",
       "4021836    67.0  61.962457\n",
       "1886023    26.0  23.567830\n",
       "957007      7.0   5.696531\n",
       "245859     -4.0  -2.541012\n",
       "987061     33.0  32.059499\n",
       "\n",
       "[578512 rows x 2 columns]"
      ]
     },
     "execution_count": 25,
     "metadata": {},
     "output_type": "execute_result"
    }
   ],
   "source": [
    "compa3=pd.DataFrame({'Actual':y_test,'Pred-3':pred3})\n",
    "compa3"
   ]
  },
  {
   "cell_type": "code",
   "execution_count": 26,
   "id": "49fc7752",
   "metadata": {
    "ExecuteTime": {
     "end_time": "2022-02-10T19:24:44.737367Z",
     "start_time": "2022-02-10T19:24:44.534798Z"
    }
   },
   "outputs": [
    {
     "data": {
      "text/plain": [
       "<AxesSubplot:>"
      ]
     },
     "execution_count": 26,
     "metadata": {},
     "output_type": "execute_result"
    },
    {
     "data": {
      "image/png": "[encoded data removed]",
      "text/plain": [
       "<Figure size 720x504 with 1 Axes>"
      ]
     },
     "metadata": {},
     "output_type": "display_data"
    }
   ],
   "source": [
    "\n",
    "# Importancia de las caracteristicas.\n",
    "plt.figure(figsize=(10,7))\n",
    "feat_importances = pd.Series(model3.feature_importances_, index = X.columns)\n",
    "feat_importances.nlargest(5).plot(kind='barh')"
   ]
  },
  {
   "cell_type": "markdown",
   "id": "221288ce",
   "metadata": {},
   "source": [
    "**Ridge** (no realizamos la estandarificación lo haremos luego)"
   ]
  },
  {
   "cell_type": "code",
   "execution_count": 27,
   "id": "084dac55",
   "metadata": {
    "ExecuteTime": {
     "end_time": "2022-02-10T19:24:45.116762Z",
     "start_time": "2022-02-10T19:24:44.739368Z"
    }
   },
   "outputs": [
    {
     "data": {
      "text/plain": [
       "Ridge()"
      ]
     },
     "execution_count": 27,
     "metadata": {},
     "output_type": "execute_result"
    }
   ],
   "source": [
    "from sklearn.linear_model import Ridge\n",
    "model4=Ridge()\n",
    "model4.fit(X_train,y_train)"
   ]
  },
  {
   "cell_type": "code",
   "execution_count": 28,
   "id": "1c2561df",
   "metadata": {
    "ExecuteTime": {
     "end_time": "2022-02-10T19:24:45.180768Z",
     "start_time": "2022-02-10T19:24:45.118762Z"
    }
   },
   "outputs": [],
   "source": [
    "pred4=model4.predict(X_test) # predicción"
   ]
  },
  {
   "cell_type": "code",
   "execution_count": 29,
   "id": "dcd75e64",
   "metadata": {
    "ExecuteTime": {
     "end_time": "2022-02-10T19:24:45.212769Z",
     "start_time": "2022-02-10T19:24:45.184769Z"
    }
   },
   "outputs": [
    {
     "data": {
      "text/html": [
       "<div>\n",
       "<style scoped>\n",
       "    .dataframe tbody tr th:only-of-type {\n",
       "        vertical-align: middle;\n",
       "    }\n",
       "\n",
       "    .dataframe tbody tr th {\n",
       "        vertical-align: top;\n",
       "    }\n",
       "\n",
       "    .dataframe thead th {\n",
       "        text-align: right;\n",
       "    }\n",
       "</style>\n",
       "<table border=\"1\" class=\"dataframe\">\n",
       "  <thead>\n",
       "    <tr style=\"text-align: right;\">\n",
       "      <th></th>\n",
       "      <th>Actual</th>\n",
       "      <th>Pred-4</th>\n",
       "    </tr>\n",
       "  </thead>\n",
       "  <tbody>\n",
       "    <tr>\n",
       "      <th>1251307</th>\n",
       "      <td>6.0</td>\n",
       "      <td>6.000001</td>\n",
       "    </tr>\n",
       "    <tr>\n",
       "      <th>4750566</th>\n",
       "      <td>35.0</td>\n",
       "      <td>35.000010</td>\n",
       "    </tr>\n",
       "    <tr>\n",
       "      <th>6773048</th>\n",
       "      <td>10.0</td>\n",
       "      <td>9.999994</td>\n",
       "    </tr>\n",
       "    <tr>\n",
       "      <th>58354</th>\n",
       "      <td>73.0</td>\n",
       "      <td>73.000002</td>\n",
       "    </tr>\n",
       "    <tr>\n",
       "      <th>6648930</th>\n",
       "      <td>49.0</td>\n",
       "      <td>48.999997</td>\n",
       "    </tr>\n",
       "    <tr>\n",
       "      <th>...</th>\n",
       "      <td>...</td>\n",
       "      <td>...</td>\n",
       "    </tr>\n",
       "    <tr>\n",
       "      <th>4021836</th>\n",
       "      <td>67.0</td>\n",
       "      <td>66.999994</td>\n",
       "    </tr>\n",
       "    <tr>\n",
       "      <th>1886023</th>\n",
       "      <td>26.0</td>\n",
       "      <td>26.000003</td>\n",
       "    </tr>\n",
       "    <tr>\n",
       "      <th>957007</th>\n",
       "      <td>7.0</td>\n",
       "      <td>7.000004</td>\n",
       "    </tr>\n",
       "    <tr>\n",
       "      <th>245859</th>\n",
       "      <td>-4.0</td>\n",
       "      <td>-3.999991</td>\n",
       "    </tr>\n",
       "    <tr>\n",
       "      <th>987061</th>\n",
       "      <td>33.0</td>\n",
       "      <td>33.000135</td>\n",
       "    </tr>\n",
       "  </tbody>\n",
       "</table>\n",
       "<p>578512 rows × 2 columns</p>\n",
       "</div>"
      ],
      "text/plain": [
       "         Actual     Pred-4\n",
       "1251307     6.0   6.000001\n",
       "4750566    35.0  35.000010\n",
       "6773048    10.0   9.999994\n",
       "58354      73.0  73.000002\n",
       "6648930    49.0  48.999997\n",
       "...         ...        ...\n",
       "4021836    67.0  66.999994\n",
       "1886023    26.0  26.000003\n",
       "957007      7.0   7.000004\n",
       "245859     -4.0  -3.999991\n",
       "987061     33.0  33.000135\n",
       "\n",
       "[578512 rows x 2 columns]"
      ]
     },
     "execution_count": 29,
     "metadata": {},
     "output_type": "execute_result"
    }
   ],
   "source": [
    "compa4=pd.DataFrame({'Actual':y_test,'Pred-4':pred4})\n",
    "compa4"
   ]
  },
  {
   "cell_type": "markdown",
   "id": "b8b734ed",
   "metadata": {},
   "source": [
    "**Lasso**"
   ]
  },
  {
   "cell_type": "code",
   "execution_count": 30,
   "id": "a3a54acd",
   "metadata": {
    "ExecuteTime": {
     "end_time": "2022-02-10T19:25:27.498436Z",
     "start_time": "2022-02-10T19:24:45.214770Z"
    }
   },
   "outputs": [
    {
     "data": {
      "text/plain": [
       "Lasso(alpha=0.1)"
      ]
     },
     "execution_count": 30,
     "metadata": {},
     "output_type": "execute_result"
    }
   ],
   "source": [
    "from sklearn.linear_model import Lasso\n",
    "model5=Lasso(alpha=0.1)\n",
    "model5.fit(X_train,y_train)"
   ]
  },
  {
   "cell_type": "code",
   "execution_count": 31,
   "id": "63cb0123",
   "metadata": {
    "ExecuteTime": {
     "end_time": "2022-02-10T19:25:27.561175Z",
     "start_time": "2022-02-10T19:25:27.500539Z"
    }
   },
   "outputs": [],
   "source": [
    "pred5=model5.predict(X_test)"
   ]
  },
  {
   "cell_type": "code",
   "execution_count": 32,
   "id": "6da483e2",
   "metadata": {
    "ExecuteTime": {
     "end_time": "2022-02-10T19:25:27.592406Z",
     "start_time": "2022-02-10T19:25:27.563288Z"
    }
   },
   "outputs": [
    {
     "data": {
      "text/html": [
       "<div>\n",
       "<style scoped>\n",
       "    .dataframe tbody tr th:only-of-type {\n",
       "        vertical-align: middle;\n",
       "    }\n",
       "\n",
       "    .dataframe tbody tr th {\n",
       "        vertical-align: top;\n",
       "    }\n",
       "\n",
       "    .dataframe thead th {\n",
       "        text-align: right;\n",
       "    }\n",
       "</style>\n",
       "<table border=\"1\" class=\"dataframe\">\n",
       "  <thead>\n",
       "    <tr style=\"text-align: right;\">\n",
       "      <th></th>\n",
       "      <th>Actual</th>\n",
       "      <th>Pred-5</th>\n",
       "    </tr>\n",
       "  </thead>\n",
       "  <tbody>\n",
       "    <tr>\n",
       "      <th>1251307</th>\n",
       "      <td>6.0</td>\n",
       "      <td>6.034770</td>\n",
       "    </tr>\n",
       "    <tr>\n",
       "      <th>4750566</th>\n",
       "      <td>35.0</td>\n",
       "      <td>34.913964</td>\n",
       "    </tr>\n",
       "    <tr>\n",
       "      <th>6773048</th>\n",
       "      <td>10.0</td>\n",
       "      <td>9.972608</td>\n",
       "    </tr>\n",
       "    <tr>\n",
       "      <th>58354</th>\n",
       "      <td>73.0</td>\n",
       "      <td>72.967881</td>\n",
       "    </tr>\n",
       "    <tr>\n",
       "      <th>6648930</th>\n",
       "      <td>49.0</td>\n",
       "      <td>48.944035</td>\n",
       "    </tr>\n",
       "    <tr>\n",
       "      <th>...</th>\n",
       "      <td>...</td>\n",
       "      <td>...</td>\n",
       "    </tr>\n",
       "    <tr>\n",
       "      <th>4021836</th>\n",
       "      <td>67.0</td>\n",
       "      <td>66.958249</td>\n",
       "    </tr>\n",
       "    <tr>\n",
       "      <th>1886023</th>\n",
       "      <td>26.0</td>\n",
       "      <td>25.932465</td>\n",
       "    </tr>\n",
       "    <tr>\n",
       "      <th>957007</th>\n",
       "      <td>7.0</td>\n",
       "      <td>7.044377</td>\n",
       "    </tr>\n",
       "    <tr>\n",
       "      <th>245859</th>\n",
       "      <td>-4.0</td>\n",
       "      <td>-3.797839</td>\n",
       "    </tr>\n",
       "    <tr>\n",
       "      <th>987061</th>\n",
       "      <td>33.0</td>\n",
       "      <td>32.959682</td>\n",
       "    </tr>\n",
       "  </tbody>\n",
       "</table>\n",
       "<p>578512 rows × 2 columns</p>\n",
       "</div>"
      ],
      "text/plain": [
       "         Actual     Pred-5\n",
       "1251307     6.0   6.034770\n",
       "4750566    35.0  34.913964\n",
       "6773048    10.0   9.972608\n",
       "58354      73.0  72.967881\n",
       "6648930    49.0  48.944035\n",
       "...         ...        ...\n",
       "4021836    67.0  66.958249\n",
       "1886023    26.0  25.932465\n",
       "957007      7.0   7.044377\n",
       "245859     -4.0  -3.797839\n",
       "987061     33.0  32.959682\n",
       "\n",
       "[578512 rows x 2 columns]"
      ]
     },
     "execution_count": 32,
     "metadata": {},
     "output_type": "execute_result"
    }
   ],
   "source": [
    "compa5=pd.DataFrame({'Actual':y_test,'Pred-5':pred5})\n",
    "compa5"
   ]
  },
  {
   "cell_type": "markdown",
   "id": "14adf215",
   "metadata": {},
   "source": [
    "***\n",
    "## Exercici 2\n",
    "Compara’ls en base al MSE i al R2 .\n",
    "\n"
   ]
  },
  {
   "cell_type": "code",
   "execution_count": 33,
   "id": "75d81c4a",
   "metadata": {
    "ExecuteTime": {
     "end_time": "2022-02-10T19:25:27.731282Z",
     "start_time": "2022-02-10T19:25:27.594406Z"
    }
   },
   "outputs": [],
   "source": [
    "pred=[pred1,pred2,pred3,pred4,pred5]\n",
    "\n",
    "medidor=[]\n",
    "\n",
    "for i in range(len(pred)):\n",
    "    \n",
    "    estimador=[r2_score(y_test, pred[i]), mean_squared_error(y_test, pred[i]),mean_absolute_error(y_test, pred[i])]\n",
    "    medidor.append(estimador)"
   ]
  },
  {
   "cell_type": "code",
   "execution_count": 34,
   "id": "1b67338d",
   "metadata": {
    "ExecuteTime": {
     "end_time": "2022-02-10T19:25:27.763282Z",
     "start_time": "2022-02-10T19:25:27.732280Z"
    }
   },
   "outputs": [
    {
     "data": {
      "text/html": [
       "<div>\n",
       "<style scoped>\n",
       "    .dataframe tbody tr th:only-of-type {\n",
       "        vertical-align: middle;\n",
       "    }\n",
       "\n",
       "    .dataframe tbody tr th {\n",
       "        vertical-align: top;\n",
       "    }\n",
       "\n",
       "    .dataframe thead th {\n",
       "        text-align: right;\n",
       "    }\n",
       "</style>\n",
       "<table border=\"1\" class=\"dataframe\">\n",
       "  <thead>\n",
       "    <tr style=\"text-align: right;\">\n",
       "      <th></th>\n",
       "      <th>Linear_Regression</th>\n",
       "      <th>TreeDecision</th>\n",
       "      <th>RandomForest</th>\n",
       "      <th>Ridge</th>\n",
       "      <th>Lasso</th>\n",
       "    </tr>\n",
       "  </thead>\n",
       "  <tbody>\n",
       "    <tr>\n",
       "      <th>R2_Score</th>\n",
       "      <td>1.000000</td>\n",
       "      <td>0.873966</td>\n",
       "      <td>0.985570</td>\n",
       "      <td>1.000000</td>\n",
       "      <td>0.999996</td>\n",
       "    </tr>\n",
       "    <tr>\n",
       "      <th>RMSE</th>\n",
       "      <td>0.000005</td>\n",
       "      <td>406.564561</td>\n",
       "      <td>46.547770</td>\n",
       "      <td>0.000005</td>\n",
       "      <td>0.013141</td>\n",
       "    </tr>\n",
       "    <tr>\n",
       "      <th>MAE</th>\n",
       "      <td>0.000018</td>\n",
       "      <td>12.763508</td>\n",
       "      <td>4.208832</td>\n",
       "      <td>0.000018</td>\n",
       "      <td>0.077457</td>\n",
       "    </tr>\n",
       "  </tbody>\n",
       "</table>\n",
       "</div>"
      ],
      "text/plain": [
       "          Linear_Regression  TreeDecision  RandomForest     Ridge     Lasso\n",
       "R2_Score           1.000000      0.873966      0.985570  1.000000  0.999996\n",
       "RMSE               0.000005    406.564561     46.547770  0.000005  0.013141\n",
       "MAE                0.000018     12.763508      4.208832  0.000018  0.077457"
      ]
     },
     "execution_count": 34,
     "metadata": {},
     "output_type": "execute_result"
    }
   ],
   "source": [
    "metricas=pd.DataFrame({'Linear_Regression':medidor[0],'TreeDecision':medidor[1],\n",
    "                      'RandomForest':medidor[2],'Ridge':medidor[3],'Lasso':medidor[4]},\n",
    "                    index=['R2_Score','RMSE','MAE'])\n",
    "\n",
    "metricas"
   ]
  },
  {
   "cell_type": "markdown",
   "id": "67634423",
   "metadata": {},
   "source": [
    "Resumen de todas las métricas."
   ]
  },
  {
   "cell_type": "markdown",
   "id": "2a0cb720",
   "metadata": {
    "ExecuteTime": {
     "end_time": "2022-02-10T00:39:04.213812Z",
     "start_time": "2022-02-10T00:39:04.203813Z"
    }
   },
   "source": [
    "### Exercici 3\n",
    "Entrena’ls utilitzant els diferents paràmetres que admeten."
   ]
  },
  {
   "cell_type": "markdown",
   "id": "99b6c2d9",
   "metadata": {},
   "source": [
    "**Regresión lineal**"
   ]
  },
  {
   "cell_type": "code",
   "execution_count": 35,
   "id": "37fa2147",
   "metadata": {
    "ExecuteTime": {
     "end_time": "2022-02-10T19:25:28.336406Z",
     "start_time": "2022-02-10T19:25:27.765283Z"
    }
   },
   "outputs": [],
   "source": [
    "#Cambiando parametros\n",
    "model1_mod = LinearRegression(fit_intercept = False, n_jobs = -1)\n",
    "model1_mod.fit(X_train,y_train)\n",
    "pred1_mod=model1_mod.predict(X_test)"
   ]
  },
  {
   "cell_type": "code",
   "execution_count": 36,
   "id": "a935178c",
   "metadata": {
    "ExecuteTime": {
     "end_time": "2022-02-10T19:25:28.368513Z",
     "start_time": "2022-02-10T19:25:28.338405Z"
    }
   },
   "outputs": [
    {
     "data": {
      "text/html": [
       "<div>\n",
       "<style scoped>\n",
       "    .dataframe tbody tr th:only-of-type {\n",
       "        vertical-align: middle;\n",
       "    }\n",
       "\n",
       "    .dataframe tbody tr th {\n",
       "        vertical-align: top;\n",
       "    }\n",
       "\n",
       "    .dataframe thead th {\n",
       "        text-align: right;\n",
       "    }\n",
       "</style>\n",
       "<table border=\"1\" class=\"dataframe\">\n",
       "  <thead>\n",
       "    <tr style=\"text-align: right;\">\n",
       "      <th></th>\n",
       "      <th>Actual</th>\n",
       "      <th>Pred</th>\n",
       "      <th>Pred_mod</th>\n",
       "    </tr>\n",
       "  </thead>\n",
       "  <tbody>\n",
       "    <tr>\n",
       "      <th>1251307</th>\n",
       "      <td>6.0</td>\n",
       "      <td>6.000001</td>\n",
       "      <td>5.999999</td>\n",
       "    </tr>\n",
       "    <tr>\n",
       "      <th>4750566</th>\n",
       "      <td>35.0</td>\n",
       "      <td>35.000010</td>\n",
       "      <td>35.000009</td>\n",
       "    </tr>\n",
       "    <tr>\n",
       "      <th>6773048</th>\n",
       "      <td>10.0</td>\n",
       "      <td>9.999994</td>\n",
       "      <td>9.999994</td>\n",
       "    </tr>\n",
       "    <tr>\n",
       "      <th>58354</th>\n",
       "      <td>73.0</td>\n",
       "      <td>73.000002</td>\n",
       "      <td>73.000002</td>\n",
       "    </tr>\n",
       "    <tr>\n",
       "      <th>6648930</th>\n",
       "      <td>49.0</td>\n",
       "      <td>48.999997</td>\n",
       "      <td>48.999998</td>\n",
       "    </tr>\n",
       "    <tr>\n",
       "      <th>...</th>\n",
       "      <td>...</td>\n",
       "      <td>...</td>\n",
       "      <td>...</td>\n",
       "    </tr>\n",
       "    <tr>\n",
       "      <th>4021836</th>\n",
       "      <td>67.0</td>\n",
       "      <td>66.999994</td>\n",
       "      <td>66.999992</td>\n",
       "    </tr>\n",
       "    <tr>\n",
       "      <th>1886023</th>\n",
       "      <td>26.0</td>\n",
       "      <td>26.000004</td>\n",
       "      <td>26.000002</td>\n",
       "    </tr>\n",
       "    <tr>\n",
       "      <th>957007</th>\n",
       "      <td>7.0</td>\n",
       "      <td>7.000004</td>\n",
       "      <td>7.000004</td>\n",
       "    </tr>\n",
       "    <tr>\n",
       "      <th>245859</th>\n",
       "      <td>-4.0</td>\n",
       "      <td>-3.999992</td>\n",
       "      <td>-3.999993</td>\n",
       "    </tr>\n",
       "    <tr>\n",
       "      <th>987061</th>\n",
       "      <td>33.0</td>\n",
       "      <td>33.000135</td>\n",
       "      <td>33.000134</td>\n",
       "    </tr>\n",
       "  </tbody>\n",
       "</table>\n",
       "<p>578512 rows × 3 columns</p>\n",
       "</div>"
      ],
      "text/plain": [
       "         Actual       Pred   Pred_mod\n",
       "1251307     6.0   6.000001   5.999999\n",
       "4750566    35.0  35.000010  35.000009\n",
       "6773048    10.0   9.999994   9.999994\n",
       "58354      73.0  73.000002  73.000002\n",
       "6648930    49.0  48.999997  48.999998\n",
       "...         ...        ...        ...\n",
       "4021836    67.0  66.999994  66.999992\n",
       "1886023    26.0  26.000004  26.000002\n",
       "957007      7.0   7.000004   7.000004\n",
       "245859     -4.0  -3.999992  -3.999993\n",
       "987061     33.0  33.000135  33.000134\n",
       "\n",
       "[578512 rows x 3 columns]"
      ]
     },
     "execution_count": 36,
     "metadata": {},
     "output_type": "execute_result"
    }
   ],
   "source": [
    "compa1_mod=pd.DataFrame({'Actual':y_test,'Pred':pred1,'Pred_mod':pred1_mod})\n",
    "compa1_mod"
   ]
  },
  {
   "cell_type": "markdown",
   "id": "5005bbcb",
   "metadata": {
    "ExecuteTime": {
     "end_time": "2022-02-10T00:51:17.119503Z",
     "start_time": "2022-02-10T00:51:17.102502Z"
    }
   },
   "source": [
    "Arbol Decisión"
   ]
  },
  {
   "cell_type": "code",
   "execution_count": 37,
   "id": "50931c79",
   "metadata": {
    "ExecuteTime": {
     "end_time": "2022-02-10T19:25:43.145483Z",
     "start_time": "2022-02-10T19:25:28.370513Z"
    }
   },
   "outputs": [],
   "source": [
    "model2_mod=DecisionTreeRegressor(max_depth = 10, criterion='friedman_mse', random_state=42)\n",
    "model2_mod.fit(X_train,y_train)\n",
    "pred2_mod=model1_mod.predict(X_test)"
   ]
  },
  {
   "cell_type": "code",
   "execution_count": 38,
   "id": "d1862a89",
   "metadata": {
    "ExecuteTime": {
     "end_time": "2022-02-10T19:25:43.176366Z",
     "start_time": "2022-02-10T19:25:43.147442Z"
    }
   },
   "outputs": [
    {
     "data": {
      "text/html": [
       "<div>\n",
       "<style scoped>\n",
       "    .dataframe tbody tr th:only-of-type {\n",
       "        vertical-align: middle;\n",
       "    }\n",
       "\n",
       "    .dataframe tbody tr th {\n",
       "        vertical-align: top;\n",
       "    }\n",
       "\n",
       "    .dataframe thead th {\n",
       "        text-align: right;\n",
       "    }\n",
       "</style>\n",
       "<table border=\"1\" class=\"dataframe\">\n",
       "  <thead>\n",
       "    <tr style=\"text-align: right;\">\n",
       "      <th></th>\n",
       "      <th>Actual</th>\n",
       "      <th>Pred-2</th>\n",
       "      <th>Pred2_mod</th>\n",
       "    </tr>\n",
       "  </thead>\n",
       "  <tbody>\n",
       "    <tr>\n",
       "      <th>1251307</th>\n",
       "      <td>6.0</td>\n",
       "      <td>8.780637</td>\n",
       "      <td>5.999999</td>\n",
       "    </tr>\n",
       "    <tr>\n",
       "      <th>4750566</th>\n",
       "      <td>35.0</td>\n",
       "      <td>34.579954</td>\n",
       "      <td>35.000009</td>\n",
       "    </tr>\n",
       "    <tr>\n",
       "      <th>6773048</th>\n",
       "      <td>10.0</td>\n",
       "      <td>8.780637</td>\n",
       "      <td>9.999994</td>\n",
       "    </tr>\n",
       "    <tr>\n",
       "      <th>58354</th>\n",
       "      <td>73.0</td>\n",
       "      <td>47.645291</td>\n",
       "      <td>73.000002</td>\n",
       "    </tr>\n",
       "    <tr>\n",
       "      <th>6648930</th>\n",
       "      <td>49.0</td>\n",
       "      <td>47.645291</td>\n",
       "      <td>48.999998</td>\n",
       "    </tr>\n",
       "    <tr>\n",
       "      <th>...</th>\n",
       "      <td>...</td>\n",
       "      <td>...</td>\n",
       "      <td>...</td>\n",
       "    </tr>\n",
       "    <tr>\n",
       "      <th>4021836</th>\n",
       "      <td>67.0</td>\n",
       "      <td>34.579954</td>\n",
       "      <td>66.999992</td>\n",
       "    </tr>\n",
       "    <tr>\n",
       "      <th>1886023</th>\n",
       "      <td>26.0</td>\n",
       "      <td>34.579954</td>\n",
       "      <td>26.000002</td>\n",
       "    </tr>\n",
       "    <tr>\n",
       "      <th>957007</th>\n",
       "      <td>7.0</td>\n",
       "      <td>8.780637</td>\n",
       "      <td>7.000004</td>\n",
       "    </tr>\n",
       "    <tr>\n",
       "      <th>245859</th>\n",
       "      <td>-4.0</td>\n",
       "      <td>8.780637</td>\n",
       "      <td>-3.999993</td>\n",
       "    </tr>\n",
       "    <tr>\n",
       "      <th>987061</th>\n",
       "      <td>33.0</td>\n",
       "      <td>34.579954</td>\n",
       "      <td>33.000134</td>\n",
       "    </tr>\n",
       "  </tbody>\n",
       "</table>\n",
       "<p>578512 rows × 3 columns</p>\n",
       "</div>"
      ],
      "text/plain": [
       "         Actual     Pred-2  Pred2_mod\n",
       "1251307     6.0   8.780637   5.999999\n",
       "4750566    35.0  34.579954  35.000009\n",
       "6773048    10.0   8.780637   9.999994\n",
       "58354      73.0  47.645291  73.000002\n",
       "6648930    49.0  47.645291  48.999998\n",
       "...         ...        ...        ...\n",
       "4021836    67.0  34.579954  66.999992\n",
       "1886023    26.0  34.579954  26.000002\n",
       "957007      7.0   8.780637   7.000004\n",
       "245859     -4.0   8.780637  -3.999993\n",
       "987061     33.0  34.579954  33.000134\n",
       "\n",
       "[578512 rows x 3 columns]"
      ]
     },
     "execution_count": 38,
     "metadata": {},
     "output_type": "execute_result"
    }
   ],
   "source": [
    "compa2_mod=pd.DataFrame({'Actual':y_test,'Pred-2':pred2,'Pred2_mod':pred2_mod})\n",
    "compa2_mod"
   ]
  },
  {
   "cell_type": "markdown",
   "id": "c2d617a0",
   "metadata": {},
   "source": [
    "Random Forest"
   ]
  },
  {
   "cell_type": "code",
   "execution_count": 39,
   "id": "8816795c",
   "metadata": {
    "ExecuteTime": {
     "end_time": "2022-02-10T19:54:54.948020Z",
     "start_time": "2022-02-10T19:25:43.178370Z"
    }
   },
   "outputs": [],
   "source": [
    "model3_mod = RandomForestRegressor(n_estimators = 100, max_depth=30, random_state = 42) \n",
    "model3_mod.fit(X_train,y_train)\n",
    "pred3_mod=model1_mod.predict(X_test)"
   ]
  },
  {
   "cell_type": "code",
   "execution_count": 40,
   "id": "463687ca",
   "metadata": {
    "ExecuteTime": {
     "end_time": "2022-02-10T19:54:54.979964Z",
     "start_time": "2022-02-10T19:54:54.950020Z"
    }
   },
   "outputs": [
    {
     "data": {
      "text/html": [
       "<div>\n",
       "<style scoped>\n",
       "    .dataframe tbody tr th:only-of-type {\n",
       "        vertical-align: middle;\n",
       "    }\n",
       "\n",
       "    .dataframe tbody tr th {\n",
       "        vertical-align: top;\n",
       "    }\n",
       "\n",
       "    .dataframe thead th {\n",
       "        text-align: right;\n",
       "    }\n",
       "</style>\n",
       "<table border=\"1\" class=\"dataframe\">\n",
       "  <thead>\n",
       "    <tr style=\"text-align: right;\">\n",
       "      <th></th>\n",
       "      <th>Actual</th>\n",
       "      <th>Pred-3</th>\n",
       "      <th>Pred3_mod</th>\n",
       "    </tr>\n",
       "  </thead>\n",
       "  <tbody>\n",
       "    <tr>\n",
       "      <th>1251307</th>\n",
       "      <td>6.0</td>\n",
       "      <td>3.695323</td>\n",
       "      <td>5.999999</td>\n",
       "    </tr>\n",
       "    <tr>\n",
       "      <th>4750566</th>\n",
       "      <td>35.0</td>\n",
       "      <td>37.349161</td>\n",
       "      <td>35.000009</td>\n",
       "    </tr>\n",
       "    <tr>\n",
       "      <th>6773048</th>\n",
       "      <td>10.0</td>\n",
       "      <td>5.696531</td>\n",
       "      <td>9.999994</td>\n",
       "    </tr>\n",
       "    <tr>\n",
       "      <th>58354</th>\n",
       "      <td>73.0</td>\n",
       "      <td>68.749563</td>\n",
       "      <td>73.000002</td>\n",
       "    </tr>\n",
       "    <tr>\n",
       "      <th>6648930</th>\n",
       "      <td>49.0</td>\n",
       "      <td>49.405453</td>\n",
       "      <td>48.999998</td>\n",
       "    </tr>\n",
       "    <tr>\n",
       "      <th>...</th>\n",
       "      <td>...</td>\n",
       "      <td>...</td>\n",
       "      <td>...</td>\n",
       "    </tr>\n",
       "    <tr>\n",
       "      <th>4021836</th>\n",
       "      <td>67.0</td>\n",
       "      <td>61.962457</td>\n",
       "      <td>66.999992</td>\n",
       "    </tr>\n",
       "    <tr>\n",
       "      <th>1886023</th>\n",
       "      <td>26.0</td>\n",
       "      <td>23.567830</td>\n",
       "      <td>26.000002</td>\n",
       "    </tr>\n",
       "    <tr>\n",
       "      <th>957007</th>\n",
       "      <td>7.0</td>\n",
       "      <td>5.696531</td>\n",
       "      <td>7.000004</td>\n",
       "    </tr>\n",
       "    <tr>\n",
       "      <th>245859</th>\n",
       "      <td>-4.0</td>\n",
       "      <td>-2.541012</td>\n",
       "      <td>-3.999993</td>\n",
       "    </tr>\n",
       "    <tr>\n",
       "      <th>987061</th>\n",
       "      <td>33.0</td>\n",
       "      <td>32.059499</td>\n",
       "      <td>33.000134</td>\n",
       "    </tr>\n",
       "  </tbody>\n",
       "</table>\n",
       "<p>578512 rows × 3 columns</p>\n",
       "</div>"
      ],
      "text/plain": [
       "         Actual     Pred-3  Pred3_mod\n",
       "1251307     6.0   3.695323   5.999999\n",
       "4750566    35.0  37.349161  35.000009\n",
       "6773048    10.0   5.696531   9.999994\n",
       "58354      73.0  68.749563  73.000002\n",
       "6648930    49.0  49.405453  48.999998\n",
       "...         ...        ...        ...\n",
       "4021836    67.0  61.962457  66.999992\n",
       "1886023    26.0  23.567830  26.000002\n",
       "957007      7.0   5.696531   7.000004\n",
       "245859     -4.0  -2.541012  -3.999993\n",
       "987061     33.0  32.059499  33.000134\n",
       "\n",
       "[578512 rows x 3 columns]"
      ]
     },
     "execution_count": 40,
     "metadata": {},
     "output_type": "execute_result"
    }
   ],
   "source": [
    "compa3_mod=pd.DataFrame({'Actual':y_test,'Pred-3':pred3,'Pred3_mod':pred3_mod})\n",
    "compa3_mod"
   ]
  },
  {
   "cell_type": "markdown",
   "id": "103e4a21",
   "metadata": {},
   "source": [
    "Ridge"
   ]
  },
  {
   "cell_type": "code",
   "execution_count": 41,
   "id": "56eb2e80",
   "metadata": {
    "ExecuteTime": {
     "end_time": "2022-02-10T19:54:55.416430Z",
     "start_time": "2022-02-10T19:54:54.982967Z"
    }
   },
   "outputs": [],
   "source": [
    "from sklearn.linear_model import Ridge\n",
    "model4_mod=Ridge(alpha=1,solver='cholesky')## modificamos parametros\n",
    "model4_mod.fit(X_train,y_train)\n",
    "pred4_mod=model1_mod.predict(X_test)"
   ]
  },
  {
   "cell_type": "code",
   "execution_count": 42,
   "id": "4a7dc518",
   "metadata": {
    "ExecuteTime": {
     "end_time": "2022-02-10T19:54:55.448624Z",
     "start_time": "2022-02-10T19:54:55.419431Z"
    }
   },
   "outputs": [
    {
     "data": {
      "text/html": [
       "<div>\n",
       "<style scoped>\n",
       "    .dataframe tbody tr th:only-of-type {\n",
       "        vertical-align: middle;\n",
       "    }\n",
       "\n",
       "    .dataframe tbody tr th {\n",
       "        vertical-align: top;\n",
       "    }\n",
       "\n",
       "    .dataframe thead th {\n",
       "        text-align: right;\n",
       "    }\n",
       "</style>\n",
       "<table border=\"1\" class=\"dataframe\">\n",
       "  <thead>\n",
       "    <tr style=\"text-align: right;\">\n",
       "      <th></th>\n",
       "      <th>Actual</th>\n",
       "      <th>Pred-4</th>\n",
       "      <th>Pred4_mod</th>\n",
       "    </tr>\n",
       "  </thead>\n",
       "  <tbody>\n",
       "    <tr>\n",
       "      <th>1251307</th>\n",
       "      <td>6.0</td>\n",
       "      <td>6.000001</td>\n",
       "      <td>5.999999</td>\n",
       "    </tr>\n",
       "    <tr>\n",
       "      <th>4750566</th>\n",
       "      <td>35.0</td>\n",
       "      <td>35.000010</td>\n",
       "      <td>35.000009</td>\n",
       "    </tr>\n",
       "    <tr>\n",
       "      <th>6773048</th>\n",
       "      <td>10.0</td>\n",
       "      <td>9.999994</td>\n",
       "      <td>9.999994</td>\n",
       "    </tr>\n",
       "    <tr>\n",
       "      <th>58354</th>\n",
       "      <td>73.0</td>\n",
       "      <td>73.000002</td>\n",
       "      <td>73.000002</td>\n",
       "    </tr>\n",
       "    <tr>\n",
       "      <th>6648930</th>\n",
       "      <td>49.0</td>\n",
       "      <td>48.999997</td>\n",
       "      <td>48.999998</td>\n",
       "    </tr>\n",
       "    <tr>\n",
       "      <th>...</th>\n",
       "      <td>...</td>\n",
       "      <td>...</td>\n",
       "      <td>...</td>\n",
       "    </tr>\n",
       "    <tr>\n",
       "      <th>4021836</th>\n",
       "      <td>67.0</td>\n",
       "      <td>66.999994</td>\n",
       "      <td>66.999992</td>\n",
       "    </tr>\n",
       "    <tr>\n",
       "      <th>1886023</th>\n",
       "      <td>26.0</td>\n",
       "      <td>26.000003</td>\n",
       "      <td>26.000002</td>\n",
       "    </tr>\n",
       "    <tr>\n",
       "      <th>957007</th>\n",
       "      <td>7.0</td>\n",
       "      <td>7.000004</td>\n",
       "      <td>7.000004</td>\n",
       "    </tr>\n",
       "    <tr>\n",
       "      <th>245859</th>\n",
       "      <td>-4.0</td>\n",
       "      <td>-3.999991</td>\n",
       "      <td>-3.999993</td>\n",
       "    </tr>\n",
       "    <tr>\n",
       "      <th>987061</th>\n",
       "      <td>33.0</td>\n",
       "      <td>33.000135</td>\n",
       "      <td>33.000134</td>\n",
       "    </tr>\n",
       "  </tbody>\n",
       "</table>\n",
       "<p>578512 rows × 3 columns</p>\n",
       "</div>"
      ],
      "text/plain": [
       "         Actual     Pred-4  Pred4_mod\n",
       "1251307     6.0   6.000001   5.999999\n",
       "4750566    35.0  35.000010  35.000009\n",
       "6773048    10.0   9.999994   9.999994\n",
       "58354      73.0  73.000002  73.000002\n",
       "6648930    49.0  48.999997  48.999998\n",
       "...         ...        ...        ...\n",
       "4021836    67.0  66.999994  66.999992\n",
       "1886023    26.0  26.000003  26.000002\n",
       "957007      7.0   7.000004   7.000004\n",
       "245859     -4.0  -3.999991  -3.999993\n",
       "987061     33.0  33.000135  33.000134\n",
       "\n",
       "[578512 rows x 3 columns]"
      ]
     },
     "execution_count": 42,
     "metadata": {},
     "output_type": "execute_result"
    }
   ],
   "source": [
    "compa4_mod=pd.DataFrame({'Actual':y_test,'Pred-4':pred4,'Pred4_mod':pred4_mod})\n",
    "compa4_mod"
   ]
  },
  {
   "cell_type": "markdown",
   "id": "5399bb71",
   "metadata": {},
   "source": [
    "Lasso"
   ]
  },
  {
   "cell_type": "code",
   "execution_count": 43,
   "id": "33577b56",
   "metadata": {
    "ExecuteTime": {
     "end_time": "2022-02-10T19:55:35.423946Z",
     "start_time": "2022-02-10T19:54:55.450625Z"
    }
   },
   "outputs": [],
   "source": [
    "from sklearn.linear_model import Lasso\n",
    "model5_mod=Lasso(alpha=0.15) # modificamos a 0.15\n",
    "model5_mod.fit(X_train,y_train)\n",
    "pred5_mod=model1_mod.predict(X_test)"
   ]
  },
  {
   "cell_type": "code",
   "execution_count": 44,
   "id": "043330aa",
   "metadata": {
    "ExecuteTime": {
     "end_time": "2022-02-10T19:55:35.455269Z",
     "start_time": "2022-02-10T19:55:35.426050Z"
    }
   },
   "outputs": [
    {
     "data": {
      "text/html": [
       "<div>\n",
       "<style scoped>\n",
       "    .dataframe tbody tr th:only-of-type {\n",
       "        vertical-align: middle;\n",
       "    }\n",
       "\n",
       "    .dataframe tbody tr th {\n",
       "        vertical-align: top;\n",
       "    }\n",
       "\n",
       "    .dataframe thead th {\n",
       "        text-align: right;\n",
       "    }\n",
       "</style>\n",
       "<table border=\"1\" class=\"dataframe\">\n",
       "  <thead>\n",
       "    <tr style=\"text-align: right;\">\n",
       "      <th></th>\n",
       "      <th>Actual</th>\n",
       "      <th>Pred-5</th>\n",
       "      <th>Pred5_mod</th>\n",
       "    </tr>\n",
       "  </thead>\n",
       "  <tbody>\n",
       "    <tr>\n",
       "      <th>1251307</th>\n",
       "      <td>6.0</td>\n",
       "      <td>6.034770</td>\n",
       "      <td>5.999999</td>\n",
       "    </tr>\n",
       "    <tr>\n",
       "      <th>4750566</th>\n",
       "      <td>35.0</td>\n",
       "      <td>34.913964</td>\n",
       "      <td>35.000009</td>\n",
       "    </tr>\n",
       "    <tr>\n",
       "      <th>6773048</th>\n",
       "      <td>10.0</td>\n",
       "      <td>9.972608</td>\n",
       "      <td>9.999994</td>\n",
       "    </tr>\n",
       "    <tr>\n",
       "      <th>58354</th>\n",
       "      <td>73.0</td>\n",
       "      <td>72.967881</td>\n",
       "      <td>73.000002</td>\n",
       "    </tr>\n",
       "    <tr>\n",
       "      <th>6648930</th>\n",
       "      <td>49.0</td>\n",
       "      <td>48.944035</td>\n",
       "      <td>48.999998</td>\n",
       "    </tr>\n",
       "    <tr>\n",
       "      <th>...</th>\n",
       "      <td>...</td>\n",
       "      <td>...</td>\n",
       "      <td>...</td>\n",
       "    </tr>\n",
       "    <tr>\n",
       "      <th>4021836</th>\n",
       "      <td>67.0</td>\n",
       "      <td>66.958249</td>\n",
       "      <td>66.999992</td>\n",
       "    </tr>\n",
       "    <tr>\n",
       "      <th>1886023</th>\n",
       "      <td>26.0</td>\n",
       "      <td>25.932465</td>\n",
       "      <td>26.000002</td>\n",
       "    </tr>\n",
       "    <tr>\n",
       "      <th>957007</th>\n",
       "      <td>7.0</td>\n",
       "      <td>7.044377</td>\n",
       "      <td>7.000004</td>\n",
       "    </tr>\n",
       "    <tr>\n",
       "      <th>245859</th>\n",
       "      <td>-4.0</td>\n",
       "      <td>-3.797839</td>\n",
       "      <td>-3.999993</td>\n",
       "    </tr>\n",
       "    <tr>\n",
       "      <th>987061</th>\n",
       "      <td>33.0</td>\n",
       "      <td>32.959682</td>\n",
       "      <td>33.000134</td>\n",
       "    </tr>\n",
       "  </tbody>\n",
       "</table>\n",
       "<p>578512 rows × 3 columns</p>\n",
       "</div>"
      ],
      "text/plain": [
       "         Actual     Pred-5  Pred5_mod\n",
       "1251307     6.0   6.034770   5.999999\n",
       "4750566    35.0  34.913964  35.000009\n",
       "6773048    10.0   9.972608   9.999994\n",
       "58354      73.0  72.967881  73.000002\n",
       "6648930    49.0  48.944035  48.999998\n",
       "...         ...        ...        ...\n",
       "4021836    67.0  66.958249  66.999992\n",
       "1886023    26.0  25.932465  26.000002\n",
       "957007      7.0   7.044377   7.000004\n",
       "245859     -4.0  -3.797839  -3.999993\n",
       "987061     33.0  32.959682  33.000134\n",
       "\n",
       "[578512 rows x 3 columns]"
      ]
     },
     "execution_count": 44,
     "metadata": {},
     "output_type": "execute_result"
    }
   ],
   "source": [
    "compa5_mod=pd.DataFrame({'Actual':y_test,'Pred-5':pred5,'Pred5_mod':pred5_mod})\n",
    "compa5_mod"
   ]
  },
  {
   "cell_type": "markdown",
   "id": "42678636",
   "metadata": {},
   "source": [
    "**Metricas:**"
   ]
  },
  {
   "cell_type": "code",
   "execution_count": 45,
   "id": "eb5f976c",
   "metadata": {
    "ExecuteTime": {
     "end_time": "2022-02-10T19:55:35.594405Z",
     "start_time": "2022-02-10T19:55:35.457269Z"
    }
   },
   "outputs": [],
   "source": [
    "pred_mod=[pred1_mod,pred2_mod,pred3_mod,pred4_mod,pred5_mod]\n",
    "\n",
    "medidor_mod=[]\n",
    "\n",
    "for i in range(len(pred)):\n",
    "    \n",
    "    estimador=[r2_score(y_test, pred_mod[i]), mean_squared_error(y_test, pred_mod[i]),\n",
    "               mean_absolute_error(y_test, pred_mod[i])]\n",
    "    medidor_mod.append(estimador)"
   ]
  },
  {
   "cell_type": "code",
   "execution_count": 46,
   "id": "2ab34fdb",
   "metadata": {
    "ExecuteTime": {
     "end_time": "2022-02-10T19:55:35.625581Z",
     "start_time": "2022-02-10T19:55:35.597480Z"
    }
   },
   "outputs": [
    {
     "data": {
      "text/html": [
       "<div>\n",
       "<style scoped>\n",
       "    .dataframe tbody tr th:only-of-type {\n",
       "        vertical-align: middle;\n",
       "    }\n",
       "\n",
       "    .dataframe tbody tr th {\n",
       "        vertical-align: top;\n",
       "    }\n",
       "\n",
       "    .dataframe thead th {\n",
       "        text-align: right;\n",
       "    }\n",
       "</style>\n",
       "<table border=\"1\" class=\"dataframe\">\n",
       "  <thead>\n",
       "    <tr style=\"text-align: right;\">\n",
       "      <th></th>\n",
       "      <th>Linear_Regression</th>\n",
       "      <th>TreeDecision</th>\n",
       "      <th>RandomForest</th>\n",
       "      <th>Ridge</th>\n",
       "      <th>Lasso</th>\n",
       "    </tr>\n",
       "  </thead>\n",
       "  <tbody>\n",
       "    <tr>\n",
       "      <th>R2_Score</th>\n",
       "      <td>1.000000</td>\n",
       "      <td>1.000000</td>\n",
       "      <td>1.000000</td>\n",
       "      <td>1.000000</td>\n",
       "      <td>1.000000</td>\n",
       "    </tr>\n",
       "    <tr>\n",
       "      <th>RMSE</th>\n",
       "      <td>0.000005</td>\n",
       "      <td>0.000005</td>\n",
       "      <td>0.000005</td>\n",
       "      <td>0.000005</td>\n",
       "      <td>0.000005</td>\n",
       "    </tr>\n",
       "    <tr>\n",
       "      <th>MAE</th>\n",
       "      <td>0.000018</td>\n",
       "      <td>0.000018</td>\n",
       "      <td>0.000018</td>\n",
       "      <td>0.000018</td>\n",
       "      <td>0.000018</td>\n",
       "    </tr>\n",
       "  </tbody>\n",
       "</table>\n",
       "</div>"
      ],
      "text/plain": [
       "          Linear_Regression  TreeDecision  RandomForest     Ridge     Lasso\n",
       "R2_Score           1.000000      1.000000      1.000000  1.000000  1.000000\n",
       "RMSE               0.000005      0.000005      0.000005  0.000005  0.000005\n",
       "MAE                0.000018      0.000018      0.000018  0.000018  0.000018"
      ]
     },
     "execution_count": 46,
     "metadata": {},
     "output_type": "execute_result"
    }
   ],
   "source": [
    "metricas_mod=pd.DataFrame({'Linear_Regression':medidor_mod[0],'TreeDecision':medidor_mod[1],\n",
    "                      'RandomForest':medidor_mod[2],'Ridge':medidor_mod[3],'Lasso':medidor_mod[4]},\n",
    "                    index=['R2_Score','RMSE','MAE'])\n",
    "\n",
    "metricas_mod"
   ]
  },
  {
   "cell_type": "code",
   "execution_count": 47,
   "id": "d8727f7f",
   "metadata": {
    "ExecuteTime": {
     "end_time": "2022-02-10T19:55:35.657781Z",
     "start_time": "2022-02-10T19:55:35.628583Z"
    }
   },
   "outputs": [
    {
     "name": "stdout",
     "output_type": "stream",
     "text": [
      "--------Primeras metricas-------\n",
      "\n"
     ]
    },
    {
     "data": {
      "text/html": [
       "<div>\n",
       "<style scoped>\n",
       "    .dataframe tbody tr th:only-of-type {\n",
       "        vertical-align: middle;\n",
       "    }\n",
       "\n",
       "    .dataframe tbody tr th {\n",
       "        vertical-align: top;\n",
       "    }\n",
       "\n",
       "    .dataframe thead th {\n",
       "        text-align: right;\n",
       "    }\n",
       "</style>\n",
       "<table border=\"1\" class=\"dataframe\">\n",
       "  <thead>\n",
       "    <tr style=\"text-align: right;\">\n",
       "      <th></th>\n",
       "      <th>Linear_Regression</th>\n",
       "      <th>TreeDecision</th>\n",
       "      <th>RandomForest</th>\n",
       "      <th>Ridge</th>\n",
       "      <th>Lasso</th>\n",
       "    </tr>\n",
       "  </thead>\n",
       "  <tbody>\n",
       "    <tr>\n",
       "      <th>R2_Score</th>\n",
       "      <td>1.000000</td>\n",
       "      <td>0.873966</td>\n",
       "      <td>0.985570</td>\n",
       "      <td>1.000000</td>\n",
       "      <td>0.999996</td>\n",
       "    </tr>\n",
       "    <tr>\n",
       "      <th>RMSE</th>\n",
       "      <td>0.000005</td>\n",
       "      <td>406.564561</td>\n",
       "      <td>46.547770</td>\n",
       "      <td>0.000005</td>\n",
       "      <td>0.013141</td>\n",
       "    </tr>\n",
       "    <tr>\n",
       "      <th>MAE</th>\n",
       "      <td>0.000018</td>\n",
       "      <td>12.763508</td>\n",
       "      <td>4.208832</td>\n",
       "      <td>0.000018</td>\n",
       "      <td>0.077457</td>\n",
       "    </tr>\n",
       "  </tbody>\n",
       "</table>\n",
       "</div>"
      ],
      "text/plain": [
       "          Linear_Regression  TreeDecision  RandomForest     Ridge     Lasso\n",
       "R2_Score           1.000000      0.873966      0.985570  1.000000  0.999996\n",
       "RMSE               0.000005    406.564561     46.547770  0.000005  0.013141\n",
       "MAE                0.000018     12.763508      4.208832  0.000018  0.077457"
      ]
     },
     "metadata": {},
     "output_type": "display_data"
    },
    {
     "name": "stdout",
     "output_type": "stream",
     "text": [
      "\n",
      "--Metricas parametros modificados--\n"
     ]
    },
    {
     "data": {
      "text/html": [
       "<div>\n",
       "<style scoped>\n",
       "    .dataframe tbody tr th:only-of-type {\n",
       "        vertical-align: middle;\n",
       "    }\n",
       "\n",
       "    .dataframe tbody tr th {\n",
       "        vertical-align: top;\n",
       "    }\n",
       "\n",
       "    .dataframe thead th {\n",
       "        text-align: right;\n",
       "    }\n",
       "</style>\n",
       "<table border=\"1\" class=\"dataframe\">\n",
       "  <thead>\n",
       "    <tr style=\"text-align: right;\">\n",
       "      <th></th>\n",
       "      <th>Linear_Regression</th>\n",
       "      <th>TreeDecision</th>\n",
       "      <th>RandomForest</th>\n",
       "      <th>Ridge</th>\n",
       "      <th>Lasso</th>\n",
       "    </tr>\n",
       "  </thead>\n",
       "  <tbody>\n",
       "    <tr>\n",
       "      <th>R2_Score</th>\n",
       "      <td>1.000000</td>\n",
       "      <td>1.000000</td>\n",
       "      <td>1.000000</td>\n",
       "      <td>1.000000</td>\n",
       "      <td>1.000000</td>\n",
       "    </tr>\n",
       "    <tr>\n",
       "      <th>RMSE</th>\n",
       "      <td>0.000005</td>\n",
       "      <td>0.000005</td>\n",
       "      <td>0.000005</td>\n",
       "      <td>0.000005</td>\n",
       "      <td>0.000005</td>\n",
       "    </tr>\n",
       "    <tr>\n",
       "      <th>MAE</th>\n",
       "      <td>0.000018</td>\n",
       "      <td>0.000018</td>\n",
       "      <td>0.000018</td>\n",
       "      <td>0.000018</td>\n",
       "      <td>0.000018</td>\n",
       "    </tr>\n",
       "  </tbody>\n",
       "</table>\n",
       "</div>"
      ],
      "text/plain": [
       "          Linear_Regression  TreeDecision  RandomForest     Ridge     Lasso\n",
       "R2_Score           1.000000      1.000000      1.000000  1.000000  1.000000\n",
       "RMSE               0.000005      0.000005      0.000005  0.000005  0.000005\n",
       "MAE                0.000018      0.000018      0.000018  0.000018  0.000018"
      ]
     },
     "metadata": {},
     "output_type": "display_data"
    }
   ],
   "source": [
    "print('--------Primeras metricas-------\\n')\n",
    "display(metricas)\n",
    "print('\\n--Metricas parametros modificados--')\n",
    "display(metricas_mod)"
   ]
  },
  {
   "cell_type": "markdown",
   "id": "d3a4d32b",
   "metadata": {},
   "source": [
    "***\n",
    "## Exercici 4\n",
    "Compara el seu rendiment utilitzant l’aproximació traint/test o utilitzant totes les dades (validació interna)"
   ]
  },
  {
   "cell_type": "markdown",
   "id": "7629dc79",
   "metadata": {},
   "source": [
    "**Utilizaremos 'Cross validation' para realizar una nueva comprobación de las metriccas de la regression lineal**\n",
    "Buscamos detectar overfittig/sobre ajuste"
   ]
  },
  {
   "cell_type": "code",
   "execution_count": 48,
   "id": "e5c924ce",
   "metadata": {
    "ExecuteTime": {
     "end_time": "2022-02-10T19:55:35.673003Z",
     "start_time": "2022-02-10T19:55:35.660914Z"
    }
   },
   "outputs": [],
   "source": [
    "from sklearn.model_selection import cross_val_score\n",
    "def cross_validation(model,X,y):\n",
    "    \n",
    "    '''Realizamos crossvalidation y imprimimos los datos.'''\n",
    "    \n",
    "    scores =cross_val_score(model, X,y,scoring='neg_mean_squared_error',cv=10)\n",
    "    model_rmse_scores=np.sqrt(-scores)\n",
    "    print(model)\n",
    "    print('\\nScores (RMSE): ',model_rmse_scores)\n",
    "    print('Mean: ', model_rmse_scores.mean())\n",
    "    print('Std:  ', model_rmse_scores.std())"
   ]
  },
  {
   "cell_type": "code",
   "execution_count": 49,
   "id": "fd999dc3",
   "metadata": {
    "ExecuteTime": {
     "end_time": "2022-02-10T19:55:45.531802Z",
     "start_time": "2022-02-10T19:55:35.675007Z"
    }
   },
   "outputs": [
    {
     "name": "stdout",
     "output_type": "stream",
     "text": [
      "LinearRegression(fit_intercept=False, n_jobs=-1)\n",
      "\n",
      "Scores (RMSE):  [6.44070263e-03 4.55415067e-03 3.34289733e-05 3.02030195e-05\n",
      " 3.30935431e-05 3.89924791e-05 3.80347466e-05 2.98871101e-05\n",
      " 2.57111333e-05 3.13105906e-05]\n",
      "Mean:  0.0011255514897413462\n",
      "Std:   0.002226272754186496\n"
     ]
    }
   ],
   "source": [
    "cross_validation(model1_mod,X,y)"
   ]
  },
  {
   "cell_type": "markdown",
   "id": "bb7945f9",
   "metadata": {},
   "source": [
    "El valor medio que se obtiene de RMSE 0.00112 es superior al obtenido con X train test 0.000005"
   ]
  },
  {
   "cell_type": "markdown",
   "id": "075d9a86",
   "metadata": {},
   "source": [
    "***\n",
    "## Exercici 5\n",
    "Realitza algun procés d’enginyeria de variables per millorar-ne la predicció"
   ]
  },
  {
   "cell_type": "markdown",
   "id": "05029e10",
   "metadata": {},
   "source": [
    "Primero vamos a comprobar si los atributos son dependientes entre ellos, si hay colinearidad. Ya sabemos que si pero lo mediremos y corregiremos"
   ]
  },
  {
   "cell_type": "code",
   "execution_count": 50,
   "id": "4f246b8a",
   "metadata": {
    "ExecuteTime": {
     "end_time": "2022-02-10T19:55:45.547804Z",
     "start_time": "2022-02-10T19:55:45.534805Z"
    }
   },
   "outputs": [],
   "source": [
    "from statsmodels.stats.outliers_influence import variance_inflation_factor\n",
    "\n",
    "def calc_vif(X):\n",
    "\n",
    "    # Calculating VIF\n",
    "    vif = pd.DataFrame()\n",
    "    vif[\"variables\"] = X.columns\n",
    "    vif[\"VIF\"] = [variance_inflation_factor(X.values, i) for i in range(X.shape[1])]\n",
    "    vif=vif.sort_values(by='VIF',ascending=False)\n",
    "    \n",
    "\n",
    "    return(vif)"
   ]
  },
  {
   "cell_type": "code",
   "execution_count": 51,
   "id": "c028ab0a",
   "metadata": {
    "ExecuteTime": {
     "end_time": "2022-02-10T19:56:32.768730Z",
     "start_time": "2022-02-10T19:55:45.549909Z"
    }
   },
   "outputs": [
    {
     "name": "stderr",
     "output_type": "stream",
     "text": [
      "D:\\anaconda3\\lib\\site-packages\\statsmodels\\stats\\outliers_influence.py:193: RuntimeWarning: divide by zero encountered in double_scalars\n",
      "  vif = 1. / (1. - r_squared_i)\n"
     ]
    },
    {
     "data": {
      "text/html": [
       "<div>\n",
       "<style scoped>\n",
       "    .dataframe tbody tr th:only-of-type {\n",
       "        vertical-align: middle;\n",
       "    }\n",
       "\n",
       "    .dataframe tbody tr th {\n",
       "        vertical-align: top;\n",
       "    }\n",
       "\n",
       "    .dataframe thead th {\n",
       "        text-align: right;\n",
       "    }\n",
       "</style>\n",
       "<table border=\"1\" class=\"dataframe\">\n",
       "  <thead>\n",
       "    <tr style=\"text-align: right;\">\n",
       "      <th></th>\n",
       "      <th>variables</th>\n",
       "      <th>VIF</th>\n",
       "    </tr>\n",
       "  </thead>\n",
       "  <tbody>\n",
       "    <tr>\n",
       "      <th>9</th>\n",
       "      <td>AirTime</td>\n",
       "      <td>inf</td>\n",
       "    </tr>\n",
       "    <tr>\n",
       "      <th>13</th>\n",
       "      <td>TaxiOut</td>\n",
       "      <td>inf</td>\n",
       "    </tr>\n",
       "    <tr>\n",
       "      <th>12</th>\n",
       "      <td>TaxiIn</td>\n",
       "      <td>inf</td>\n",
       "    </tr>\n",
       "    <tr>\n",
       "      <th>7</th>\n",
       "      <td>ActualElapsedTime</td>\n",
       "      <td>inf</td>\n",
       "    </tr>\n",
       "    <tr>\n",
       "      <th>8</th>\n",
       "      <td>CRSElapsedTime</td>\n",
       "      <td>723.552716</td>\n",
       "    </tr>\n",
       "    <tr>\n",
       "      <th>10</th>\n",
       "      <td>DepDelay</td>\n",
       "      <td>160.868421</td>\n",
       "    </tr>\n",
       "    <tr>\n",
       "      <th>11</th>\n",
       "      <td>Distance</td>\n",
       "      <td>87.973353</td>\n",
       "    </tr>\n",
       "    <tr>\n",
       "      <th>3</th>\n",
       "      <td>DepTime</td>\n",
       "      <td>64.185638</td>\n",
       "    </tr>\n",
       "    <tr>\n",
       "      <th>4</th>\n",
       "      <td>CRSDepTime</td>\n",
       "      <td>63.946372</td>\n",
       "    </tr>\n",
       "    <tr>\n",
       "      <th>18</th>\n",
       "      <td>LateAircraftDelay</td>\n",
       "      <td>58.591364</td>\n",
       "    </tr>\n",
       "    <tr>\n",
       "      <th>14</th>\n",
       "      <td>CarrierDelay</td>\n",
       "      <td>54.061028</td>\n",
       "    </tr>\n",
       "    <tr>\n",
       "      <th>6</th>\n",
       "      <td>CRSArrTime</td>\n",
       "      <td>38.716121</td>\n",
       "    </tr>\n",
       "    <tr>\n",
       "      <th>16</th>\n",
       "      <td>NASDelay</td>\n",
       "      <td>31.937315</td>\n",
       "    </tr>\n",
       "    <tr>\n",
       "      <th>5</th>\n",
       "      <td>ArrTime</td>\n",
       "      <td>16.060867</td>\n",
       "    </tr>\n",
       "    <tr>\n",
       "      <th>15</th>\n",
       "      <td>WeatherDelay</td>\n",
       "      <td>11.894952</td>\n",
       "    </tr>\n",
       "    <tr>\n",
       "      <th>2</th>\n",
       "      <td>DayOfWeek</td>\n",
       "      <td>4.517960</td>\n",
       "    </tr>\n",
       "    <tr>\n",
       "      <th>1</th>\n",
       "      <td>DayofMonth</td>\n",
       "      <td>3.924073</td>\n",
       "    </tr>\n",
       "    <tr>\n",
       "      <th>0</th>\n",
       "      <td>Month</td>\n",
       "      <td>3.813853</td>\n",
       "    </tr>\n",
       "    <tr>\n",
       "      <th>17</th>\n",
       "      <td>SecurityDelay</td>\n",
       "      <td>1.105152</td>\n",
       "    </tr>\n",
       "  </tbody>\n",
       "</table>\n",
       "</div>"
      ],
      "text/plain": [
       "            variables         VIF\n",
       "9             AirTime         inf\n",
       "13            TaxiOut         inf\n",
       "12             TaxiIn         inf\n",
       "7   ActualElapsedTime         inf\n",
       "8      CRSElapsedTime  723.552716\n",
       "10           DepDelay  160.868421\n",
       "11           Distance   87.973353\n",
       "3             DepTime   64.185638\n",
       "4          CRSDepTime   63.946372\n",
       "18  LateAircraftDelay   58.591364\n",
       "14       CarrierDelay   54.061028\n",
       "6          CRSArrTime   38.716121\n",
       "16           NASDelay   31.937315\n",
       "5             ArrTime   16.060867\n",
       "15       WeatherDelay   11.894952\n",
       "2           DayOfWeek    4.517960\n",
       "1          DayofMonth    3.924073\n",
       "0               Month    3.813853\n",
       "17      SecurityDelay    1.105152"
      ]
     },
     "execution_count": 51,
     "metadata": {},
     "output_type": "execute_result"
    }
   ],
   "source": [
    "calc_vif(X)"
   ]
  },
  {
   "cell_type": "code",
   "execution_count": 52,
   "id": "f210887e",
   "metadata": {
    "ExecuteTime": {
     "end_time": "2022-02-10T19:56:32.784241Z",
     "start_time": "2022-02-10T19:56:32.770732Z"
    }
   },
   "outputs": [],
   "source": [
    "def regular_vif(df,vif_max):\n",
    "    \n",
    "    '''Elimina las columnas con VIF superior a 10,\n",
    "    Calculando una a una'''\n",
    "    vif_max=11\n",
    "    columnas_eliminadas=[]\n",
    "    while vif_max>10:\n",
    "        vif = pd.DataFrame()\n",
    "        vif[\"VIF\"] = [variance_inflation_factor(df.values, i) for i in range(df.shape[1])]\n",
    "        vif[\"variables\"] = df.columns\n",
    "        vif=vif.sort_values(by='VIF',ascending=False)\n",
    "\n",
    "        vif_max=vif.VIF.max()\n",
    "        columnas_eliminadas.append(vif.variables.iloc[0])\n",
    "    \n",
    "        df.drop(columns=[vif.variables.iloc[0]],inplace=True)\n",
    "    print(columnas_eliminadas)\n",
    "    return (vif)"
   ]
  },
  {
   "cell_type": "code",
   "execution_count": 53,
   "id": "728028a3",
   "metadata": {
    "ExecuteTime": {
     "end_time": "2022-02-10T19:56:32.863654Z",
     "start_time": "2022-02-10T19:56:32.787757Z"
    }
   },
   "outputs": [
    {
     "data": {
      "text/plain": [
       "count    1.928371e+06\n",
       "mean     1.082771e+02\n",
       "std      6.864261e+01\n",
       "min      0.000000e+00\n",
       "25%      5.800000e+01\n",
       "50%      9.000000e+01\n",
       "75%      1.370000e+02\n",
       "max      1.091000e+03\n",
       "Name: AirTime, dtype: float64"
      ]
     },
     "execution_count": 53,
     "metadata": {},
     "output_type": "execute_result"
    }
   ],
   "source": [
    "X.AirTime.describe()"
   ]
  },
  {
   "cell_type": "code",
   "execution_count": 54,
   "id": "1244deaa",
   "metadata": {
    "ExecuteTime": {
     "end_time": "2022-02-10T19:57:20.059141Z",
     "start_time": "2022-02-10T19:56:32.865759Z"
    }
   },
   "outputs": [
    {
     "name": "stderr",
     "output_type": "stream",
     "text": [
      "D:\\anaconda3\\lib\\site-packages\\statsmodels\\stats\\outliers_influence.py:193: RuntimeWarning: divide by zero encountered in double_scalars\n",
      "  vif = 1. / (1. - r_squared_i)\n"
     ]
    },
    {
     "data": {
      "text/html": [
       "<div>\n",
       "<style scoped>\n",
       "    .dataframe tbody tr th:only-of-type {\n",
       "        vertical-align: middle;\n",
       "    }\n",
       "\n",
       "    .dataframe tbody tr th {\n",
       "        vertical-align: top;\n",
       "    }\n",
       "\n",
       "    .dataframe thead th {\n",
       "        text-align: right;\n",
       "    }\n",
       "</style>\n",
       "<table border=\"1\" class=\"dataframe\">\n",
       "  <thead>\n",
       "    <tr style=\"text-align: right;\">\n",
       "      <th></th>\n",
       "      <th>variables</th>\n",
       "      <th>VIF</th>\n",
       "    </tr>\n",
       "  </thead>\n",
       "  <tbody>\n",
       "    <tr>\n",
       "      <th>9</th>\n",
       "      <td>AirTime</td>\n",
       "      <td>inf</td>\n",
       "    </tr>\n",
       "    <tr>\n",
       "      <th>13</th>\n",
       "      <td>TaxiOut</td>\n",
       "      <td>inf</td>\n",
       "    </tr>\n",
       "    <tr>\n",
       "      <th>12</th>\n",
       "      <td>TaxiIn</td>\n",
       "      <td>inf</td>\n",
       "    </tr>\n",
       "    <tr>\n",
       "      <th>7</th>\n",
       "      <td>ActualElapsedTime</td>\n",
       "      <td>inf</td>\n",
       "    </tr>\n",
       "    <tr>\n",
       "      <th>8</th>\n",
       "      <td>CRSElapsedTime</td>\n",
       "      <td>723.552716</td>\n",
       "    </tr>\n",
       "    <tr>\n",
       "      <th>10</th>\n",
       "      <td>DepDelay</td>\n",
       "      <td>160.868421</td>\n",
       "    </tr>\n",
       "    <tr>\n",
       "      <th>11</th>\n",
       "      <td>Distance</td>\n",
       "      <td>87.973353</td>\n",
       "    </tr>\n",
       "    <tr>\n",
       "      <th>3</th>\n",
       "      <td>DepTime</td>\n",
       "      <td>64.185638</td>\n",
       "    </tr>\n",
       "    <tr>\n",
       "      <th>4</th>\n",
       "      <td>CRSDepTime</td>\n",
       "      <td>63.946372</td>\n",
       "    </tr>\n",
       "    <tr>\n",
       "      <th>18</th>\n",
       "      <td>LateAircraftDelay</td>\n",
       "      <td>58.591364</td>\n",
       "    </tr>\n",
       "    <tr>\n",
       "      <th>14</th>\n",
       "      <td>CarrierDelay</td>\n",
       "      <td>54.061028</td>\n",
       "    </tr>\n",
       "    <tr>\n",
       "      <th>6</th>\n",
       "      <td>CRSArrTime</td>\n",
       "      <td>38.716121</td>\n",
       "    </tr>\n",
       "    <tr>\n",
       "      <th>16</th>\n",
       "      <td>NASDelay</td>\n",
       "      <td>31.937315</td>\n",
       "    </tr>\n",
       "    <tr>\n",
       "      <th>5</th>\n",
       "      <td>ArrTime</td>\n",
       "      <td>16.060867</td>\n",
       "    </tr>\n",
       "    <tr>\n",
       "      <th>15</th>\n",
       "      <td>WeatherDelay</td>\n",
       "      <td>11.894952</td>\n",
       "    </tr>\n",
       "    <tr>\n",
       "      <th>2</th>\n",
       "      <td>DayOfWeek</td>\n",
       "      <td>4.517960</td>\n",
       "    </tr>\n",
       "    <tr>\n",
       "      <th>1</th>\n",
       "      <td>DayofMonth</td>\n",
       "      <td>3.924073</td>\n",
       "    </tr>\n",
       "    <tr>\n",
       "      <th>0</th>\n",
       "      <td>Month</td>\n",
       "      <td>3.813853</td>\n",
       "    </tr>\n",
       "    <tr>\n",
       "      <th>17</th>\n",
       "      <td>SecurityDelay</td>\n",
       "      <td>1.105152</td>\n",
       "    </tr>\n",
       "  </tbody>\n",
       "</table>\n",
       "</div>"
      ],
      "text/plain": [
       "            variables         VIF\n",
       "9             AirTime         inf\n",
       "13            TaxiOut         inf\n",
       "12             TaxiIn         inf\n",
       "7   ActualElapsedTime         inf\n",
       "8      CRSElapsedTime  723.552716\n",
       "10           DepDelay  160.868421\n",
       "11           Distance   87.973353\n",
       "3             DepTime   64.185638\n",
       "4          CRSDepTime   63.946372\n",
       "18  LateAircraftDelay   58.591364\n",
       "14       CarrierDelay   54.061028\n",
       "6          CRSArrTime   38.716121\n",
       "16           NASDelay   31.937315\n",
       "5             ArrTime   16.060867\n",
       "15       WeatherDelay   11.894952\n",
       "2           DayOfWeek    4.517960\n",
       "1          DayofMonth    3.924073\n",
       "0               Month    3.813853\n",
       "17      SecurityDelay    1.105152"
      ]
     },
     "execution_count": 54,
     "metadata": {},
     "output_type": "execute_result"
    }
   ],
   "source": [
    "calc_vif(X)"
   ]
  },
  {
   "cell_type": "markdown",
   "id": "0f64dab8",
   "metadata": {
    "ExecuteTime": {
     "end_time": "2022-02-10T08:58:09.937136Z",
     "start_time": "2022-02-10T08:58:09.918044Z"
    }
   },
   "source": [
    "La alerta nos indica que algunos caso r-cuadrado es igual a 1. Serán las primeras columnas que eliminaremo.\n"
   ]
  },
  {
   "cell_type": "code",
   "execution_count": 70,
   "id": "eb66cbd9",
   "metadata": {
    "ExecuteTime": {
     "end_time": "2022-02-11T06:50:17.104965Z",
     "start_time": "2022-02-11T06:48:27.774407Z"
    }
   },
   "outputs": [],
   "source": [
    "X_fea= X.copy()\n",
    "X_fea.drop(columns=['AirTime'],inplace=True)"
   ]
  },
  {
   "cell_type": "code",
   "execution_count": 71,
   "id": "d701e44b",
   "metadata": {
    "ExecuteTime": {
     "end_time": "2022-02-11T06:50:59.143485Z",
     "start_time": "2022-02-11T06:50:17.109094Z"
    }
   },
   "outputs": [
    {
     "data": {
      "text/html": [
       "<div>\n",
       "<style scoped>\n",
       "    .dataframe tbody tr th:only-of-type {\n",
       "        vertical-align: middle;\n",
       "    }\n",
       "\n",
       "    .dataframe tbody tr th {\n",
       "        vertical-align: top;\n",
       "    }\n",
       "\n",
       "    .dataframe thead th {\n",
       "        text-align: right;\n",
       "    }\n",
       "</style>\n",
       "<table border=\"1\" class=\"dataframe\">\n",
       "  <thead>\n",
       "    <tr style=\"text-align: right;\">\n",
       "      <th></th>\n",
       "      <th>variables</th>\n",
       "      <th>VIF</th>\n",
       "    </tr>\n",
       "  </thead>\n",
       "  <tbody>\n",
       "    <tr>\n",
       "      <th>7</th>\n",
       "      <td>ActualElapsedTime</td>\n",
       "      <td>746.002115</td>\n",
       "    </tr>\n",
       "    <tr>\n",
       "      <th>8</th>\n",
       "      <td>CRSElapsedTime</td>\n",
       "      <td>723.620141</td>\n",
       "    </tr>\n",
       "    <tr>\n",
       "      <th>9</th>\n",
       "      <td>DepDelay</td>\n",
       "      <td>160.869478</td>\n",
       "    </tr>\n",
       "    <tr>\n",
       "      <th>10</th>\n",
       "      <td>Distance</td>\n",
       "      <td>87.974291</td>\n",
       "    </tr>\n",
       "    <tr>\n",
       "      <th>3</th>\n",
       "      <td>DepTime</td>\n",
       "      <td>64.186244</td>\n",
       "    </tr>\n",
       "    <tr>\n",
       "      <th>4</th>\n",
       "      <td>CRSDepTime</td>\n",
       "      <td>63.946636</td>\n",
       "    </tr>\n",
       "    <tr>\n",
       "      <th>17</th>\n",
       "      <td>LateAircraftDelay</td>\n",
       "      <td>58.591733</td>\n",
       "    </tr>\n",
       "    <tr>\n",
       "      <th>13</th>\n",
       "      <td>CarrierDelay</td>\n",
       "      <td>54.061551</td>\n",
       "    </tr>\n",
       "    <tr>\n",
       "      <th>6</th>\n",
       "      <td>CRSArrTime</td>\n",
       "      <td>38.716135</td>\n",
       "    </tr>\n",
       "    <tr>\n",
       "      <th>15</th>\n",
       "      <td>NASDelay</td>\n",
       "      <td>31.937536</td>\n",
       "    </tr>\n",
       "    <tr>\n",
       "      <th>5</th>\n",
       "      <td>ArrTime</td>\n",
       "      <td>16.060873</td>\n",
       "    </tr>\n",
       "    <tr>\n",
       "      <th>14</th>\n",
       "      <td>WeatherDelay</td>\n",
       "      <td>11.895030</td>\n",
       "    </tr>\n",
       "    <tr>\n",
       "      <th>12</th>\n",
       "      <td>TaxiOut</td>\n",
       "      <td>7.286637</td>\n",
       "    </tr>\n",
       "    <tr>\n",
       "      <th>2</th>\n",
       "      <td>DayOfWeek</td>\n",
       "      <td>4.517961</td>\n",
       "    </tr>\n",
       "    <tr>\n",
       "      <th>1</th>\n",
       "      <td>DayofMonth</td>\n",
       "      <td>3.924081</td>\n",
       "    </tr>\n",
       "    <tr>\n",
       "      <th>0</th>\n",
       "      <td>Month</td>\n",
       "      <td>3.813853</td>\n",
       "    </tr>\n",
       "    <tr>\n",
       "      <th>11</th>\n",
       "      <td>TaxiIn</td>\n",
       "      <td>3.329840</td>\n",
       "    </tr>\n",
       "    <tr>\n",
       "      <th>16</th>\n",
       "      <td>SecurityDelay</td>\n",
       "      <td>1.105152</td>\n",
       "    </tr>\n",
       "  </tbody>\n",
       "</table>\n",
       "</div>"
      ],
      "text/plain": [
       "            variables         VIF\n",
       "7   ActualElapsedTime  746.002115\n",
       "8      CRSElapsedTime  723.620141\n",
       "9            DepDelay  160.869478\n",
       "10           Distance   87.974291\n",
       "3             DepTime   64.186244\n",
       "4          CRSDepTime   63.946636\n",
       "17  LateAircraftDelay   58.591733\n",
       "13       CarrierDelay   54.061551\n",
       "6          CRSArrTime   38.716135\n",
       "15           NASDelay   31.937536\n",
       "5             ArrTime   16.060873\n",
       "14       WeatherDelay   11.895030\n",
       "12            TaxiOut    7.286637\n",
       "2           DayOfWeek    4.517961\n",
       "1          DayofMonth    3.924081\n",
       "0               Month    3.813853\n",
       "11             TaxiIn    3.329840\n",
       "16      SecurityDelay    1.105152"
      ]
     },
     "execution_count": 71,
     "metadata": {},
     "output_type": "execute_result"
    }
   ],
   "source": [
    "calc_vif(X_fea)"
   ]
  },
  {
   "cell_type": "code",
   "execution_count": 72,
   "id": "73a8b44a",
   "metadata": {
    "ExecuteTime": {
     "end_time": "2022-02-11T06:50:59.158660Z",
     "start_time": "2022-02-11T06:50:59.146484Z"
    }
   },
   "outputs": [],
   "source": [
    "def regular_vif(df,vif_max):\n",
    "    vif_max=11\n",
    "    columnas_eliminadas=[]\n",
    "    while vif_max>10:\n",
    "        vif = pd.DataFrame()\n",
    "        vif[\"VIF\"] = [variance_inflation_factor(df.values, i) for i in range(df.shape[1])]\n",
    "        vif[\"variables\"] = df.columns\n",
    "        vif=vif.sort_values(by='VIF',ascending=False)\n",
    "\n",
    "        vif_max=vif.VIF.max()\n",
    "        columnas_eliminadas.append(vif.variables.iloc[0])\n",
    "    \n",
    "        df.drop(columns=[vif.variables.iloc[0]],inplace=True)\n",
    "    print(columnas_eliminadas)\n",
    "    return (vif)"
   ]
  },
  {
   "cell_type": "code",
   "execution_count": 73,
   "id": "e24bd640",
   "metadata": {
    "ExecuteTime": {
     "end_time": "2022-02-11T06:54:15.963292Z",
     "start_time": "2022-02-11T06:50:59.161660Z"
    }
   },
   "outputs": [
    {
     "name": "stdout",
     "output_type": "stream",
     "text": [
      "['ActualElapsedTime', 'CRSElapsedTime', 'DepTime', 'DepDelay', 'CRSArrTime', 'CRSDepTime', 'ArrTime']\n"
     ]
    },
    {
     "data": {
      "text/html": [
       "<div>\n",
       "<style scoped>\n",
       "    .dataframe tbody tr th:only-of-type {\n",
       "        vertical-align: middle;\n",
       "    }\n",
       "\n",
       "    .dataframe tbody tr th {\n",
       "        vertical-align: top;\n",
       "    }\n",
       "\n",
       "    .dataframe thead th {\n",
       "        text-align: right;\n",
       "    }\n",
       "</style>\n",
       "<table border=\"1\" class=\"dataframe\">\n",
       "  <thead>\n",
       "    <tr style=\"text-align: right;\">\n",
       "      <th></th>\n",
       "      <th>VIF</th>\n",
       "      <th>variables</th>\n",
       "    </tr>\n",
       "  </thead>\n",
       "  <tbody>\n",
       "    <tr>\n",
       "      <th>3</th>\n",
       "      <td>6.244268</td>\n",
       "      <td>ArrTime</td>\n",
       "    </tr>\n",
       "    <tr>\n",
       "      <th>2</th>\n",
       "      <td>4.240426</td>\n",
       "      <td>DayOfWeek</td>\n",
       "    </tr>\n",
       "    <tr>\n",
       "      <th>1</th>\n",
       "      <td>3.758156</td>\n",
       "      <td>DayofMonth</td>\n",
       "    </tr>\n",
       "    <tr>\n",
       "      <th>0</th>\n",
       "      <td>3.654149</td>\n",
       "      <td>Month</td>\n",
       "    </tr>\n",
       "    <tr>\n",
       "      <th>6</th>\n",
       "      <td>3.163536</td>\n",
       "      <td>TaxiOut</td>\n",
       "    </tr>\n",
       "    <tr>\n",
       "      <th>5</th>\n",
       "      <td>2.749504</td>\n",
       "      <td>TaxiIn</td>\n",
       "    </tr>\n",
       "    <tr>\n",
       "      <th>4</th>\n",
       "      <td>2.645993</td>\n",
       "      <td>Distance</td>\n",
       "    </tr>\n",
       "    <tr>\n",
       "      <th>9</th>\n",
       "      <td>1.515096</td>\n",
       "      <td>NASDelay</td>\n",
       "    </tr>\n",
       "    <tr>\n",
       "      <th>11</th>\n",
       "      <td>1.315040</td>\n",
       "      <td>LateAircraftDelay</td>\n",
       "    </tr>\n",
       "    <tr>\n",
       "      <th>7</th>\n",
       "      <td>1.155246</td>\n",
       "      <td>CarrierDelay</td>\n",
       "    </tr>\n",
       "    <tr>\n",
       "      <th>8</th>\n",
       "      <td>1.037903</td>\n",
       "      <td>WeatherDelay</td>\n",
       "    </tr>\n",
       "    <tr>\n",
       "      <th>10</th>\n",
       "      <td>1.001742</td>\n",
       "      <td>SecurityDelay</td>\n",
       "    </tr>\n",
       "  </tbody>\n",
       "</table>\n",
       "</div>"
      ],
      "text/plain": [
       "         VIF          variables\n",
       "3   6.244268            ArrTime\n",
       "2   4.240426          DayOfWeek\n",
       "1   3.758156         DayofMonth\n",
       "0   3.654149              Month\n",
       "6   3.163536            TaxiOut\n",
       "5   2.749504             TaxiIn\n",
       "4   2.645993           Distance\n",
       "9   1.515096           NASDelay\n",
       "11  1.315040  LateAircraftDelay\n",
       "7   1.155246       CarrierDelay\n",
       "8   1.037903       WeatherDelay\n",
       "10  1.001742      SecurityDelay"
      ]
     },
     "execution_count": 73,
     "metadata": {},
     "output_type": "execute_result"
    }
   ],
   "source": [
    "regular_vif(X_fea,11)"
   ]
  },
  {
   "cell_type": "code",
   "execution_count": 74,
   "id": "d5651651",
   "metadata": {
    "ExecuteTime": {
     "end_time": "2022-02-11T06:54:15.979001Z",
     "start_time": "2022-02-11T06:54:15.965292Z"
    }
   },
   "outputs": [
    {
     "data": {
      "text/plain": [
       "Index(['Month', 'DayofMonth', 'DayOfWeek', 'Distance', 'TaxiIn', 'TaxiOut',\n",
       "       'CarrierDelay', 'WeatherDelay', 'NASDelay', 'SecurityDelay',\n",
       "       'LateAircraftDelay'],\n",
       "      dtype='object')"
      ]
     },
     "execution_count": 74,
     "metadata": {},
     "output_type": "execute_result"
    }
   ],
   "source": [
    "X_fea.columns"
   ]
  },
  {
   "cell_type": "markdown",
   "id": "41b85ce6",
   "metadata": {},
   "source": [
    "Estas son las columnas que eliminaremos, añadimos 'DepDelay', ya que la eliminaremos en el ejercicio 6."
   ]
  },
  {
   "cell_type": "code",
   "execution_count": 75,
   "id": "85674ffd",
   "metadata": {
    "ExecuteTime": {
     "end_time": "2022-02-11T06:54:15.994617Z",
     "start_time": "2022-02-11T06:54:15.981510Z"
    }
   },
   "outputs": [],
   "source": [
    "X_fea['DepDelay']=X['DepDelay']"
   ]
  },
  {
   "cell_type": "code",
   "execution_count": 76,
   "id": "a163e9be",
   "metadata": {
    "ExecuteTime": {
     "end_time": "2022-02-11T06:54:16.009742Z",
     "start_time": "2022-02-11T06:54:15.996618Z"
    }
   },
   "outputs": [
    {
     "data": {
      "text/plain": [
       "Index(['Month', 'DayofMonth', 'DayOfWeek', 'Distance', 'TaxiIn', 'TaxiOut',\n",
       "       'CarrierDelay', 'WeatherDelay', 'NASDelay', 'SecurityDelay',\n",
       "       'LateAircraftDelay', 'DepDelay'],\n",
       "      dtype='object')"
      ]
     },
     "execution_count": 76,
     "metadata": {},
     "output_type": "execute_result"
    }
   ],
   "source": [
    "X_fea.columns"
   ]
  },
  {
   "cell_type": "markdown",
   "id": "ae49a390",
   "metadata": {},
   "source": [
    "- Definimos test y train"
   ]
  },
  {
   "cell_type": "code",
   "execution_count": 77,
   "id": "7b2ad924",
   "metadata": {
    "ExecuteTime": {
     "end_time": "2022-02-11T06:54:16.775862Z",
     "start_time": "2022-02-11T06:54:16.013741Z"
    }
   },
   "outputs": [],
   "source": [
    "\n",
    "X_train, X_test, y_train, y_test = train_test_split(X_fea, y, test_size=0.3, random_state=42)"
   ]
  },
  {
   "cell_type": "markdown",
   "id": "96c2f99a",
   "metadata": {},
   "source": [
    "- Realizamos un standard scaler que podremos utilizar después."
   ]
  },
  {
   "cell_type": "code",
   "execution_count": 78,
   "id": "f8b63821",
   "metadata": {
    "ExecuteTime": {
     "end_time": "2022-02-11T06:54:17.161216Z",
     "start_time": "2022-02-11T06:54:16.779860Z"
    }
   },
   "outputs": [],
   "source": [
    "scaler = StandardScaler()\n",
    "\n",
    "X_train_std=scaler.fit_transform(X_train)\n",
    "X_test_std=scaler.transform(X_test)"
   ]
  },
  {
   "cell_type": "markdown",
   "id": "596003ac",
   "metadata": {},
   "source": [
    "* Transformación polinomial"
   ]
  },
  {
   "cell_type": "code",
   "execution_count": 79,
   "id": "a90e72f7",
   "metadata": {
    "ExecuteTime": {
     "end_time": "2022-02-11T06:54:19.309327Z",
     "start_time": "2022-02-11T06:54:17.163218Z"
    }
   },
   "outputs": [],
   "source": [
    "from sklearn.preprocessing import PolynomialFeatures\n",
    "poly = PolynomialFeatures(2)\n",
    "X_train_poly=poly.fit_transform(X_train)\n",
    "X_test_poly=poly.transform(X_test)\n"
   ]
  },
  {
   "cell_type": "markdown",
   "id": "564cf526",
   "metadata": {},
   "source": [
    "### regresion lineal"
   ]
  },
  {
   "cell_type": "code",
   "execution_count": 80,
   "id": "53a50e81",
   "metadata": {
    "ExecuteTime": {
     "end_time": "2022-02-11T06:54:25.422137Z",
     "start_time": "2022-02-11T06:54:19.310328Z"
    }
   },
   "outputs": [],
   "source": [
    "# entrenamos el model1(LR)con X con las caracteriticas reducidas\n",
    "model1.fit(X_train,y_train)\n",
    "pred1_fea=model1.predict(X_test)\n",
    "# entrenamos el modelo con la transformación polinomial\n",
    "model1.fit(X_train_poly,y_train)\n",
    "pred1_poly=model1.predict(X_test_poly)\n",
    "\n",
    "# Entrenamos el modelo con  datos Standarificados\n",
    "model1.fit(X_train_std,y_train)\n",
    "pred1_std=model1.predict(X_test_std)\n"
   ]
  },
  {
   "cell_type": "code",
   "execution_count": 81,
   "id": "22d8ff81",
   "metadata": {
    "ExecuteTime": {
     "end_time": "2022-02-11T06:54:25.546781Z",
     "start_time": "2022-02-11T06:54:25.424138Z"
    }
   },
   "outputs": [],
   "source": [
    "pred_fea=[pred1,pred1_fea,pred1_poly,pred1_std]\n",
    "\n",
    "medidor_fea=[]\n",
    "\n",
    "for i in range(len(pred_fea)):\n",
    "    \n",
    "    estimador=[r2_score(y_test, pred_fea[i]), mean_squared_error(y_test, pred_fea[i]),\n",
    "               mean_absolute_error(y_test, pred_fea[i])]\n",
    "    medidor_fea.append(estimador)"
   ]
  },
  {
   "cell_type": "code",
   "execution_count": 82,
   "id": "7ae8a5cb",
   "metadata": {
    "ExecuteTime": {
     "end_time": "2022-02-11T06:54:25.562904Z",
     "start_time": "2022-02-11T06:54:25.548781Z"
    }
   },
   "outputs": [
    {
     "name": "stdout",
     "output_type": "stream",
     "text": [
      "Regresion lineal\n"
     ]
    },
    {
     "data": {
      "text/html": [
       "<div>\n",
       "<style scoped>\n",
       "    .dataframe tbody tr th:only-of-type {\n",
       "        vertical-align: middle;\n",
       "    }\n",
       "\n",
       "    .dataframe tbody tr th {\n",
       "        vertical-align: top;\n",
       "    }\n",
       "\n",
       "    .dataframe thead th {\n",
       "        text-align: right;\n",
       "    }\n",
       "</style>\n",
       "<table border=\"1\" class=\"dataframe\">\n",
       "  <thead>\n",
       "    <tr style=\"text-align: right;\">\n",
       "      <th></th>\n",
       "      <th>Primera predicción</th>\n",
       "      <th>Columnas eliminadas</th>\n",
       "      <th>Polinomio</th>\n",
       "      <th>Std</th>\n",
       "    </tr>\n",
       "  </thead>\n",
       "  <tbody>\n",
       "    <tr>\n",
       "      <th>R2_Score</th>\n",
       "      <td>1.000000</td>\n",
       "      <td>0.990069</td>\n",
       "      <td>0.990893</td>\n",
       "      <td>0.990069</td>\n",
       "    </tr>\n",
       "    <tr>\n",
       "      <th>RMSE</th>\n",
       "      <td>0.000005</td>\n",
       "      <td>32.035468</td>\n",
       "      <td>29.378680</td>\n",
       "      <td>32.035468</td>\n",
       "    </tr>\n",
       "    <tr>\n",
       "      <th>MAE</th>\n",
       "      <td>0.000018</td>\n",
       "      <td>3.984423</td>\n",
       "      <td>3.691164</td>\n",
       "      <td>3.984423</td>\n",
       "    </tr>\n",
       "  </tbody>\n",
       "</table>\n",
       "</div>"
      ],
      "text/plain": [
       "          Primera predicción  Columnas eliminadas  Polinomio        Std\n",
       "R2_Score            1.000000             0.990069   0.990893   0.990069\n",
       "RMSE                0.000005            32.035468  29.378680  32.035468\n",
       "MAE                 0.000018             3.984423   3.691164   3.984423"
      ]
     },
     "metadata": {},
     "output_type": "display_data"
    }
   ],
   "source": [
    "metricas_fea=pd.DataFrame({'Primera predicción':medidor_fea[0],'Columnas eliminadas':medidor_fea[1],\n",
    "                      'Polinomio':medidor_fea[2],'Std':medidor_fea[3]},\n",
    "                    index=['R2_Score','RMSE','MAE'])\n",
    "\n",
    "print('Regresion lineal')\n",
    "display(metricas_fea)"
   ]
  },
  {
   "cell_type": "code",
   "execution_count": 83,
   "id": "0d86b69a",
   "metadata": {
    "ExecuteTime": {
     "end_time": "2022-02-11T06:54:26.088125Z",
     "start_time": "2022-02-11T06:54:25.564905Z"
    }
   },
   "outputs": [
    {
     "name": "stdout",
     "output_type": "stream",
     "text": [
      "0.9900694949695283 0.990069288977711\n"
     ]
    },
    {
     "data": {
      "text/html": [
       "<table class=\"simpletable\">\n",
       "<caption>OLS Regression Results</caption>\n",
       "<tr>\n",
       "  <th>Dep. Variable:</th>            <td>y</td>        <th>  R-squared:         </th>  <td>   0.990</td>  \n",
       "</tr>\n",
       "<tr>\n",
       "  <th>Model:</th>                   <td>OLS</td>       <th>  Adj. R-squared:    </th>  <td>   0.990</td>  \n",
       "</tr>\n",
       "<tr>\n",
       "  <th>Method:</th>             <td>Least Squares</td>  <th>  F-statistic:       </th>  <td>4.806e+06</td> \n",
       "</tr>\n",
       "<tr>\n",
       "  <th>Date:</th>             <td>Fri, 11 Feb 2022</td> <th>  Prob (F-statistic):</th>   <td>  0.00</td>   \n",
       "</tr>\n",
       "<tr>\n",
       "  <th>Time:</th>                 <td>07:54:26</td>     <th>  Log-Likelihood:    </th> <td>-1.8237e+06</td>\n",
       "</tr>\n",
       "<tr>\n",
       "  <th>No. Observations:</th>      <td>578512</td>      <th>  AIC:               </th>  <td>3.647e+06</td> \n",
       "</tr>\n",
       "<tr>\n",
       "  <th>Df Residuals:</th>          <td>578499</td>      <th>  BIC:               </th>  <td>3.648e+06</td> \n",
       "</tr>\n",
       "<tr>\n",
       "  <th>Df Model:</th>              <td>    12</td>      <th>                     </th>      <td> </td>     \n",
       "</tr>\n",
       "<tr>\n",
       "  <th>Covariance Type:</th>      <td>nonrobust</td>    <th>                     </th>      <td> </td>     \n",
       "</tr>\n",
       "</table>\n",
       "<table class=\"simpletable\">\n",
       "<tr>\n",
       "    <td></td>       <th>coef</th>     <th>std err</th>      <th>t</th>      <th>P>|t|</th>  <th>[0.025</th>    <th>0.975]</th>  \n",
       "</tr>\n",
       "<tr>\n",
       "  <th>const</th> <td>   -5.4468</td> <td>    0.031</td> <td> -177.230</td> <td> 0.000</td> <td>   -5.507</td> <td>   -5.387</td>\n",
       "</tr>\n",
       "<tr>\n",
       "  <th>x1</th>    <td>   -0.0453</td> <td>    0.002</td> <td>  -21.169</td> <td> 0.000</td> <td>   -0.050</td> <td>   -0.041</td>\n",
       "</tr>\n",
       "<tr>\n",
       "  <th>x2</th>    <td>   -0.0018</td> <td>    0.001</td> <td>   -2.172</td> <td> 0.030</td> <td>   -0.004</td> <td>   -0.000</td>\n",
       "</tr>\n",
       "<tr>\n",
       "  <th>x3</th>    <td>   -0.0101</td> <td>    0.004</td> <td>   -2.706</td> <td> 0.007</td> <td>   -0.017</td> <td>   -0.003</td>\n",
       "</tr>\n",
       "<tr>\n",
       "  <th>x4</th>    <td>   -0.0019</td> <td> 1.31e-05</td> <td> -146.464</td> <td> 0.000</td> <td>   -0.002</td> <td>   -0.002</td>\n",
       "</tr>\n",
       "<tr>\n",
       "  <th>x5</th>    <td>    0.1402</td> <td>    0.002</td> <td>   92.513</td> <td> 0.000</td> <td>    0.137</td> <td>    0.143</td>\n",
       "</tr>\n",
       "<tr>\n",
       "  <th>x6</th>    <td>    0.1229</td> <td>    0.001</td> <td>  162.070</td> <td> 0.000</td> <td>    0.121</td> <td>    0.124</td>\n",
       "</tr>\n",
       "<tr>\n",
       "  <th>x7</th>    <td>    0.9249</td> <td>    0.001</td> <td> 1229.043</td> <td> 0.000</td> <td>    0.923</td> <td>    0.926</td>\n",
       "</tr>\n",
       "<tr>\n",
       "  <th>x8</th>    <td>    0.9178</td> <td>    0.001</td> <td> 1110.376</td> <td> 0.000</td> <td>    0.916</td> <td>    0.919</td>\n",
       "</tr>\n",
       "<tr>\n",
       "  <th>x9</th>    <td>    0.9279</td> <td>    0.001</td> <td> 1308.995</td> <td> 0.000</td> <td>    0.927</td> <td>    0.929</td>\n",
       "</tr>\n",
       "<tr>\n",
       "  <th>x10</th>   <td>    0.9882</td> <td>    0.005</td> <td>  207.346</td> <td> 0.000</td> <td>    0.979</td> <td>    0.998</td>\n",
       "</tr>\n",
       "<tr>\n",
       "  <th>x11</th>   <td>    0.9253</td> <td>    0.001</td> <td> 1217.884</td> <td> 0.000</td> <td>    0.924</td> <td>    0.927</td>\n",
       "</tr>\n",
       "<tr>\n",
       "  <th>x12</th>   <td>    0.1036</td> <td>    0.001</td> <td>  145.752</td> <td> 0.000</td> <td>    0.102</td> <td>    0.105</td>\n",
       "</tr>\n",
       "</table>\n",
       "<table class=\"simpletable\">\n",
       "<tr>\n",
       "  <th>Omnibus:</th>       <td>269014.638</td> <th>  Durbin-Watson:     </th>  <td>   1.997</td>  \n",
       "</tr>\n",
       "<tr>\n",
       "  <th>Prob(Omnibus):</th>   <td> 0.000</td>   <th>  Jarque-Bera (JB):  </th> <td>1656399.975</td>\n",
       "</tr>\n",
       "<tr>\n",
       "  <th>Skew:</th>            <td>-2.184</td>   <th>  Prob(JB):          </th>  <td>    0.00</td>  \n",
       "</tr>\n",
       "<tr>\n",
       "  <th>Kurtosis:</th>        <td>10.045</td>   <th>  Cond. No.          </th>  <td>3.97e+03</td>  \n",
       "</tr>\n",
       "</table><br/><br/>Notes:<br/>[1] Standard Errors assume that the covariance matrix of the errors is correctly specified.<br/>[2] The condition number is large, 3.97e+03. This might indicate that there are<br/>strong multicollinearity or other numerical problems."
      ],
      "text/plain": [
       "<class 'statsmodels.iolib.summary.Summary'>\n",
       "\"\"\"\n",
       "                            OLS Regression Results                            \n",
       "==============================================================================\n",
       "Dep. Variable:                      y   R-squared:                       0.990\n",
       "Model:                            OLS   Adj. R-squared:                  0.990\n",
       "Method:                 Least Squares   F-statistic:                 4.806e+06\n",
       "Date:                Fri, 11 Feb 2022   Prob (F-statistic):               0.00\n",
       "Time:                        07:54:26   Log-Likelihood:            -1.8237e+06\n",
       "No. Observations:              578512   AIC:                         3.647e+06\n",
       "Df Residuals:                  578499   BIC:                         3.648e+06\n",
       "Df Model:                          12                                         \n",
       "Covariance Type:            nonrobust                                         \n",
       "==============================================================================\n",
       "                 coef    std err          t      P>|t|      [0.025      0.975]\n",
       "------------------------------------------------------------------------------\n",
       "const         -5.4468      0.031   -177.230      0.000      -5.507      -5.387\n",
       "x1            -0.0453      0.002    -21.169      0.000      -0.050      -0.041\n",
       "x2            -0.0018      0.001     -2.172      0.030      -0.004      -0.000\n",
       "x3            -0.0101      0.004     -2.706      0.007      -0.017      -0.003\n",
       "x4            -0.0019   1.31e-05   -146.464      0.000      -0.002      -0.002\n",
       "x5             0.1402      0.002     92.513      0.000       0.137       0.143\n",
       "x6             0.1229      0.001    162.070      0.000       0.121       0.124\n",
       "x7             0.9249      0.001   1229.043      0.000       0.923       0.926\n",
       "x8             0.9178      0.001   1110.376      0.000       0.916       0.919\n",
       "x9             0.9279      0.001   1308.995      0.000       0.927       0.929\n",
       "x10            0.9882      0.005    207.346      0.000       0.979       0.998\n",
       "x11            0.9253      0.001   1217.884      0.000       0.924       0.927\n",
       "x12            0.1036      0.001    145.752      0.000       0.102       0.105\n",
       "==============================================================================\n",
       "Omnibus:                   269014.638   Durbin-Watson:                   1.997\n",
       "Prob(Omnibus):                  0.000   Jarque-Bera (JB):          1656399.975\n",
       "Skew:                          -2.184   Prob(JB):                         0.00\n",
       "Kurtosis:                      10.045   Cond. No.                     3.97e+03\n",
       "==============================================================================\n",
       "\n",
       "Notes:\n",
       "[1] Standard Errors assume that the covariance matrix of the errors is correctly specified.\n",
       "[2] The condition number is large, 3.97e+03. This might indicate that there are\n",
       "strong multicollinearity or other numerical problems.\n",
       "\"\"\""
      ]
     },
     "execution_count": 83,
     "metadata": {},
     "output_type": "execute_result"
    }
   ],
   "source": [
    "#prediccion con  statsmodel\n",
    "X1=np.array(X_test)\n",
    "y1=np.array(y_test)\n",
    "import statsmodels.api as sm\n",
    "X_addC = sm.add_constant(X1)\n",
    "result = sm.OLS(y1, X_addC).fit()\n",
    "print(result.rsquared, result.rsquared_adj)\n",
    "result.summary()"
   ]
  },
  {
   "cell_type": "markdown",
   "id": "28274d52",
   "metadata": {},
   "source": [
    "**Random forest**"
   ]
  },
  {
   "cell_type": "code",
   "execution_count": 84,
   "id": "bcb0d588",
   "metadata": {
    "ExecuteTime": {
     "end_time": "2022-02-11T07:06:26.747483Z",
     "start_time": "2022-02-11T06:54:26.090121Z"
    }
   },
   "outputs": [],
   "source": [
    "model3.fit(X_train,y_train)\n",
    "pred3_fea=model3.predict(X_test)\n",
    "# entrenamos el modelo con la transformación polinomial\n",
    "model3.fit(X_train_poly,y_train)\n",
    "pred3_poly=model3.predict(X_test_poly)\n",
    "\n",
    "# Entrenamos el modelo con  datos Standarificados\n",
    "model3.fit(X_train_std,y_train)\n",
    "pred3_std=model3.predict(X_test_std)\n"
   ]
  },
  {
   "cell_type": "code",
   "execution_count": 85,
   "id": "fde0ffc4",
   "metadata": {
    "ExecuteTime": {
     "end_time": "2022-02-11T07:06:26.871691Z",
     "start_time": "2022-02-11T07:06:26.749485Z"
    }
   },
   "outputs": [],
   "source": [
    "pred_fea=[pred3,pred3_fea,pred3_poly,pred3_std]\n",
    "\n",
    "medidor_fea=[]\n",
    "\n",
    "for i in range(len(pred_fea)):\n",
    "    \n",
    "    estimador=[r2_score(y_test, pred_fea[i]), mean_squared_error(y_test, pred_fea[i]),\n",
    "               mean_absolute_error(y_test, pred_fea[i])]\n",
    "    medidor_fea.append(estimador)"
   ]
  },
  {
   "cell_type": "code",
   "execution_count": 86,
   "id": "9c41a02c",
   "metadata": {
    "ExecuteTime": {
     "end_time": "2022-02-11T07:06:26.887770Z",
     "start_time": "2022-02-11T07:06:26.873692Z"
    }
   },
   "outputs": [
    {
     "name": "stdout",
     "output_type": "stream",
     "text": [
      "Random Forest\n"
     ]
    },
    {
     "data": {
      "text/html": [
       "<div>\n",
       "<style scoped>\n",
       "    .dataframe tbody tr th:only-of-type {\n",
       "        vertical-align: middle;\n",
       "    }\n",
       "\n",
       "    .dataframe tbody tr th {\n",
       "        vertical-align: top;\n",
       "    }\n",
       "\n",
       "    .dataframe thead th {\n",
       "        text-align: right;\n",
       "    }\n",
       "</style>\n",
       "<table border=\"1\" class=\"dataframe\">\n",
       "  <thead>\n",
       "    <tr style=\"text-align: right;\">\n",
       "      <th></th>\n",
       "      <th>Primera predicción</th>\n",
       "      <th>Columnas eliminadas</th>\n",
       "      <th>Polinomio</th>\n",
       "      <th>Std</th>\n",
       "    </tr>\n",
       "  </thead>\n",
       "  <tbody>\n",
       "    <tr>\n",
       "      <th>R2_Score</th>\n",
       "      <td>1.000000</td>\n",
       "      <td>0.990069</td>\n",
       "      <td>0.990893</td>\n",
       "      <td>0.990069</td>\n",
       "    </tr>\n",
       "    <tr>\n",
       "      <th>RMSE</th>\n",
       "      <td>0.000005</td>\n",
       "      <td>32.035468</td>\n",
       "      <td>29.378680</td>\n",
       "      <td>32.035468</td>\n",
       "    </tr>\n",
       "    <tr>\n",
       "      <th>MAE</th>\n",
       "      <td>0.000018</td>\n",
       "      <td>3.984423</td>\n",
       "      <td>3.691164</td>\n",
       "      <td>3.984423</td>\n",
       "    </tr>\n",
       "  </tbody>\n",
       "</table>\n",
       "</div>"
      ],
      "text/plain": [
       "          Primera predicción  Columnas eliminadas  Polinomio        Std\n",
       "R2_Score            1.000000             0.990069   0.990893   0.990069\n",
       "RMSE                0.000005            32.035468  29.378680  32.035468\n",
       "MAE                 0.000018             3.984423   3.691164   3.984423"
      ]
     },
     "metadata": {},
     "output_type": "display_data"
    }
   ],
   "source": [
    "metricas_fea_rf=pd.DataFrame({'Primera predicción':medidor_fea[0],'Columnas eliminadas':medidor_fea[1],\n",
    "                      'Polinomio':medidor_fea[2],'Std':medidor_fea[3]},\n",
    "                    index=['R2_Score','RMSE','MAE'])\n",
    "\n",
    "print('Random Forest')\n",
    "display(metricas_fea)"
   ]
  },
  {
   "cell_type": "markdown",
   "id": "86634a9a",
   "metadata": {},
   "source": [
    "**ridge**"
   ]
  },
  {
   "cell_type": "code",
   "execution_count": 87,
   "id": "0614a810",
   "metadata": {
    "ExecuteTime": {
     "end_time": "2022-02-11T07:06:30.268876Z",
     "start_time": "2022-02-11T07:06:26.889894Z"
    }
   },
   "outputs": [
    {
     "name": "stderr",
     "output_type": "stream",
     "text": [
      "D:\\anaconda3\\lib\\site-packages\\sklearn\\linear_model\\_ridge.py:157: LinAlgWarning: Ill-conditioned matrix (rcond=3.20072e-19): result may not be accurate.\n",
      "  return linalg.solve(A, Xy, sym_pos=True, overwrite_a=True).T\n"
     ]
    }
   ],
   "source": [
    "model4.fit(X_train,y_train)\n",
    "pred4_fea=model4.predict(X_test)\n",
    "# entrenamos el modelo con la transformación polinomial\n",
    "model4.fit(X_train_poly,y_train)\n",
    "pred4_poly=model4.predict(X_test_poly)\n",
    "\n",
    "# Entrenamos el modelo con  datos Standarificados\n",
    "model4.fit(X_train_std,y_train)\n",
    "pred4_std=model4.predict(X_test_std)"
   ]
  },
  {
   "cell_type": "code",
   "execution_count": 88,
   "id": "4d3a357e",
   "metadata": {
    "ExecuteTime": {
     "end_time": "2022-02-11T07:06:30.377913Z",
     "start_time": "2022-02-11T07:06:30.270981Z"
    }
   },
   "outputs": [],
   "source": [
    "pred_fea=[pred4,pred4_fea,pred4_poly,pred4_std]\n",
    "\n",
    "medidor_fea=[]\n",
    "\n",
    "for i in range(len(pred_fea)):\n",
    "    \n",
    "    estimador=[r2_score(y_test, pred_fea[i]), mean_squared_error(y_test, pred_fea[i]),\n",
    "               mean_absolute_error(y_test, pred_fea[i])]\n",
    "    medidor_fea.append(estimador)"
   ]
  },
  {
   "cell_type": "code",
   "execution_count": 89,
   "id": "3b1b9d03",
   "metadata": {
    "ExecuteTime": {
     "end_time": "2022-02-11T07:06:30.394007Z",
     "start_time": "2022-02-11T07:06:30.378911Z"
    }
   },
   "outputs": [
    {
     "name": "stdout",
     "output_type": "stream",
     "text": [
      "Ridge\n"
     ]
    },
    {
     "data": {
      "text/html": [
       "<div>\n",
       "<style scoped>\n",
       "    .dataframe tbody tr th:only-of-type {\n",
       "        vertical-align: middle;\n",
       "    }\n",
       "\n",
       "    .dataframe tbody tr th {\n",
       "        vertical-align: top;\n",
       "    }\n",
       "\n",
       "    .dataframe thead th {\n",
       "        text-align: right;\n",
       "    }\n",
       "</style>\n",
       "<table border=\"1\" class=\"dataframe\">\n",
       "  <thead>\n",
       "    <tr style=\"text-align: right;\">\n",
       "      <th></th>\n",
       "      <th>Primera predicción</th>\n",
       "      <th>Columnas eliminadas</th>\n",
       "      <th>Polinomio</th>\n",
       "      <th>Std</th>\n",
       "    </tr>\n",
       "  </thead>\n",
       "  <tbody>\n",
       "    <tr>\n",
       "      <th>R2_Score</th>\n",
       "      <td>1.000000</td>\n",
       "      <td>0.990069</td>\n",
       "      <td>0.990893</td>\n",
       "      <td>0.990069</td>\n",
       "    </tr>\n",
       "    <tr>\n",
       "      <th>RMSE</th>\n",
       "      <td>0.000005</td>\n",
       "      <td>32.035468</td>\n",
       "      <td>29.378680</td>\n",
       "      <td>32.035468</td>\n",
       "    </tr>\n",
       "    <tr>\n",
       "      <th>MAE</th>\n",
       "      <td>0.000018</td>\n",
       "      <td>3.984423</td>\n",
       "      <td>3.691164</td>\n",
       "      <td>3.984423</td>\n",
       "    </tr>\n",
       "  </tbody>\n",
       "</table>\n",
       "</div>"
      ],
      "text/plain": [
       "          Primera predicción  Columnas eliminadas  Polinomio        Std\n",
       "R2_Score            1.000000             0.990069   0.990893   0.990069\n",
       "RMSE                0.000005            32.035468  29.378680  32.035468\n",
       "MAE                 0.000018             3.984423   3.691164   3.984423"
      ]
     },
     "metadata": {},
     "output_type": "display_data"
    }
   ],
   "source": [
    "metricas_fea_rd=pd.DataFrame({'Primera predicción':medidor_fea[0],'Columnas eliminadas':medidor_fea[1],\n",
    "                      'Polinomio':medidor_fea[2],'Std':medidor_fea[3]},\n",
    "                    index=['R2_Score','RMSE','MAE'])\n",
    "\n",
    "print('Ridge')\n",
    "display(metricas_fea)"
   ]
  },
  {
   "cell_type": "markdown",
   "id": "1a73d0ab",
   "metadata": {
    "ExecuteTime": {
     "end_time": "2022-02-10T13:34:06.123924Z",
     "start_time": "2022-02-10T13:34:06.101923Z"
    }
   },
   "source": [
    "***\n",
    "### Exercici 6\n",
    "No utilitzis la variable DepDelay a l’hora de fer prediccions"
   ]
  },
  {
   "cell_type": "code",
   "execution_count": 90,
   "id": "1be94735",
   "metadata": {
    "ExecuteTime": {
     "end_time": "2022-02-11T07:06:31.426591Z",
     "start_time": "2022-02-11T07:06:30.396007Z"
    }
   },
   "outputs": [],
   "source": [
    "X_fin=X_fea.drop(columns=['DepDelay'])\n",
    "X_train, X_test, y_train, y_test = train_test_split(X_fin, y, test_size=0.3, random_state=42)\n",
    "scaler = StandardScaler()\n",
    "\n",
    "X_train_std=scaler.fit_transform(X_train)\n",
    "X_test_std=scaler.transform(X_test)"
   ]
  },
  {
   "cell_type": "code",
   "execution_count": 91,
   "id": "9f5a79c4",
   "metadata": {
    "ExecuteTime": {
     "end_time": "2022-02-11T07:07:16.831387Z",
     "start_time": "2022-02-11T07:06:31.428590Z"
    }
   },
   "outputs": [],
   "source": [
    "#Linear Regression\n",
    "model1.fit(X_train_std,y_train)\n",
    "pred1_fin=model1.predict(X_test_std)\n",
    "# randomforest\n",
    "model3.fit(X_train_std,y_train)\n",
    "pred3_fin=model3.predict(X_test_std)\n",
    "#ride\n",
    "model4.fit(X_train_std,y_train)\n",
    "pred4_fin=model3.predict(X_test_std)"
   ]
  },
  {
   "cell_type": "code",
   "execution_count": 92,
   "id": "28d470eb",
   "metadata": {
    "ExecuteTime": {
     "end_time": "2022-02-11T07:07:16.955576Z",
     "start_time": "2022-02-11T07:07:16.834386Z"
    }
   },
   "outputs": [],
   "source": [
    "pred_fin=[pred1_fin,pred3_fin,pred4_fin]\n",
    "\n",
    "medidor_fin=[]\n",
    "\n",
    "for i in range(len(pred_fea)):\n",
    "    \n",
    "    estimador=[r2_score(y_test, pred_fea[i]), mean_squared_error(y_test, pred_fea[i]),\n",
    "               mean_absolute_error(y_test, pred_fea[i])]\n",
    "    medidor_fin.append(estimador)\n",
    "    "
   ]
  },
  {
   "cell_type": "code",
   "execution_count": 93,
   "id": "2f275395",
   "metadata": {
    "ExecuteTime": {
     "end_time": "2022-02-11T07:07:16.986785Z",
     "start_time": "2022-02-11T07:07:16.956576Z"
    }
   },
   "outputs": [
    {
     "name": "stdout",
     "output_type": "stream",
     "text": [
      "\n",
      "--Metricas parametros modificados--\n"
     ]
    },
    {
     "data": {
      "text/html": [
       "<div>\n",
       "<style scoped>\n",
       "    .dataframe tbody tr th:only-of-type {\n",
       "        vertical-align: middle;\n",
       "    }\n",
       "\n",
       "    .dataframe tbody tr th {\n",
       "        vertical-align: top;\n",
       "    }\n",
       "\n",
       "    .dataframe thead th {\n",
       "        text-align: right;\n",
       "    }\n",
       "</style>\n",
       "<table border=\"1\" class=\"dataframe\">\n",
       "  <thead>\n",
       "    <tr style=\"text-align: right;\">\n",
       "      <th></th>\n",
       "      <th>Linear_Regression</th>\n",
       "      <th>TreeDecision</th>\n",
       "      <th>RandomForest</th>\n",
       "      <th>Ridge</th>\n",
       "      <th>Lasso</th>\n",
       "    </tr>\n",
       "  </thead>\n",
       "  <tbody>\n",
       "    <tr>\n",
       "      <th>R2_Score</th>\n",
       "      <td>1.000000</td>\n",
       "      <td>1.000000</td>\n",
       "      <td>1.000000</td>\n",
       "      <td>1.000000</td>\n",
       "      <td>1.000000</td>\n",
       "    </tr>\n",
       "    <tr>\n",
       "      <th>RMSE</th>\n",
       "      <td>0.000005</td>\n",
       "      <td>0.000005</td>\n",
       "      <td>0.000005</td>\n",
       "      <td>0.000005</td>\n",
       "      <td>0.000005</td>\n",
       "    </tr>\n",
       "    <tr>\n",
       "      <th>MAE</th>\n",
       "      <td>0.000018</td>\n",
       "      <td>0.000018</td>\n",
       "      <td>0.000018</td>\n",
       "      <td>0.000018</td>\n",
       "      <td>0.000018</td>\n",
       "    </tr>\n",
       "  </tbody>\n",
       "</table>\n",
       "</div>"
      ],
      "text/plain": [
       "          Linear_Regression  TreeDecision  RandomForest     Ridge     Lasso\n",
       "R2_Score           1.000000      1.000000      1.000000  1.000000  1.000000\n",
       "RMSE               0.000005      0.000005      0.000005  0.000005  0.000005\n",
       "MAE                0.000018      0.000018      0.000018  0.000018  0.000018"
      ]
     },
     "metadata": {},
     "output_type": "display_data"
    },
    {
     "name": "stdout",
     "output_type": "stream",
     "text": [
      "Eliminando DepDelay\n"
     ]
    },
    {
     "data": {
      "text/html": [
       "<div>\n",
       "<style scoped>\n",
       "    .dataframe tbody tr th:only-of-type {\n",
       "        vertical-align: middle;\n",
       "    }\n",
       "\n",
       "    .dataframe tbody tr th {\n",
       "        vertical-align: top;\n",
       "    }\n",
       "\n",
       "    .dataframe thead th {\n",
       "        text-align: right;\n",
       "    }\n",
       "</style>\n",
       "<table border=\"1\" class=\"dataframe\">\n",
       "  <thead>\n",
       "    <tr style=\"text-align: right;\">\n",
       "      <th></th>\n",
       "      <th>Regresión Linear</th>\n",
       "      <th>Random Forest</th>\n",
       "      <th>Ridge</th>\n",
       "    </tr>\n",
       "  </thead>\n",
       "  <tbody>\n",
       "    <tr>\n",
       "      <th>R2_Score</th>\n",
       "      <td>1.000000</td>\n",
       "      <td>0.990069</td>\n",
       "      <td>0.990069</td>\n",
       "    </tr>\n",
       "    <tr>\n",
       "      <th>RMSE</th>\n",
       "      <td>0.000005</td>\n",
       "      <td>32.035468</td>\n",
       "      <td>32.035470</td>\n",
       "    </tr>\n",
       "    <tr>\n",
       "      <th>MAE</th>\n",
       "      <td>0.000018</td>\n",
       "      <td>3.984423</td>\n",
       "      <td>3.984421</td>\n",
       "    </tr>\n",
       "  </tbody>\n",
       "</table>\n",
       "</div>"
      ],
      "text/plain": [
       "          Regresión Linear  Random Forest      Ridge\n",
       "R2_Score          1.000000       0.990069   0.990069\n",
       "RMSE              0.000005      32.035468  32.035470\n",
       "MAE               0.000018       3.984423   3.984421"
      ]
     },
     "metadata": {},
     "output_type": "display_data"
    }
   ],
   "source": [
    "metricas_fin=pd.DataFrame({'Regresión Linear':medidor_fin[0],'Random Forest':medidor_fin[1],\n",
    "                      'Ridge':medidor_fin[3]},\n",
    "                    index=['R2_Score','RMSE','MAE'])\n",
    "\n",
    "print('\\n--Metricas parametros modificados--')\n",
    "display(metricas_mod)\n",
    "print('Eliminando DepDelay')\n",
    "display(metricas_fin)"
   ]
  },
  {
   "cell_type": "markdown",
   "id": "7fc4b998",
   "metadata": {},
   "source": [
    "***"
   ]
  }
 ],
 "metadata": {
  "kernelspec": {
   "display_name": "Python 3",
   "language": "python",
   "name": "python3"
  },
  "language_info": {
   "codemirror_mode": {
    "name": "ipython",
    "version": 3
   },
   "file_extension": ".py",
   "mimetype": "text/x-python",
   "name": "python",
   "nbconvert_exporter": "python",
   "pygments_lexer": "ipython3",
   "version": "3.8.8"
  }
 },
 "nbformat": 4,
 "nbformat_minor": 5
}
